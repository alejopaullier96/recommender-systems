{
 "cells": [
  {
   "cell_type": "markdown",
   "metadata": {},
   "source": [
    "<img src=\"https://www3.um.edu.uy/logoum.jpg\" width=300>\n",
    "<h1 align=\"center\">Thesis - Content-based algorithm</h1> \n",
    "<h2 align=\"center\">Alejo Paullier</h2> "
   ]
  },
  {
   "cell_type": "code",
   "execution_count": 1,
   "metadata": {},
   "outputs": [
    {
     "name": "stdout",
     "output_type": "stream",
     "text": [
      "Wall time: 8.59 s\n"
     ]
    }
   ],
   "source": [
    "%%time\n",
    "import pandas as pd\n",
    "import numpy as np\n",
    "\n",
    "ratings = pd.read_csv('C:\\\\Users\\\\Alejo\\\\Tesis\\\\Demo\\\\ml-100k\\\\u.data', sep='\\t',\n",
    "                      names=['user', 'item', 'rating', 'timestamp'])\n",
    "\n",
    "ratings = ratings.drop(['timestamp'],axis=1)\n",
    "\n",
    "ratings.head(5)\n",
    "\n",
    "# Boolean ratings\n",
    "\n",
    "boolean = ratings.copy()\n",
    "boolean['rating'] = boolean['rating'].replace([1,2,3,4,5],1)\n",
    "\n",
    "# Genres Matrix\n",
    "\n",
    "m_cols = ['movie id','movie title','release date','video release date','IMDb URL',\n",
    "          'unknown','Action','Adventure','Animation','Children','Comedy','Crime',\n",
    "          'Documentary','Drama','Fantasy','Film-Noir','Horror','Musical','Mystery',\n",
    "          'Romance','Sci-Fi','Thriller','War','Western']\n",
    "movies = pd.read_csv('D:\\\\Escritorio\\\\UM\\\\Tesis\\\\ML 100k\\\\u.item', sep='|', names=m_cols,encoding='latin-1')\n",
    "movies = movies.set_index('movie id')\n",
    "movies = movies.drop(['video release date'],axis = 1)\n",
    "genres = movies.drop(['movie title','release date','IMDb URL'],axis = 1)\n",
    "genres = genres.divide(((((genres.T)**2).sum())**(1/2)),axis=0)\n",
    "\n",
    "# Unpivot Ratings Matrix\n",
    "\n",
    "ratings = ratings.pivot(index = 'user',columns='item',values ='rating')\n",
    "ratings_copy = ratings.copy()\n",
    "OldMin = 1\n",
    "OldMax = 5\n",
    "NewMin = -1\n",
    "NewMax = 1\n",
    "ratings = (((ratings - OldMin) * (NewMax - NewMin)) / (OldMax - OldMin)) + NewMin\n",
    "ratings = ratings.fillna(0)\n",
    "ratings\n",
    "\n",
    "# Unpivot Boolean matrix\n",
    "\n",
    "boolean = boolean.pivot(index = 'user',columns='item',values ='rating')\n",
    "boolean = boolean.fillna(0)\n",
    "\n",
    "\n",
    "# Profile matrix\n",
    "\n",
    "np.seterr(divide='ignore', invalid='ignore')\n",
    "dot = boolean.values.dot(genres.values)\n",
    "dot = pd.DataFrame(dot)\n",
    "profile = pd.DataFrame((ratings).values.dot(genres.values), columns=genres.columns, index=(ratings).index)\n",
    "profile = profile.values/(dot.values)\n",
    "profile = pd.DataFrame(profile)\n",
    "profile.columns = genres.columns\n",
    "profile = profile.fillna(0)\n",
    "\n",
    "\n",
    "# Compute Predictions (Genres . Profile^T)\n",
    "\n",
    "count = genres.sum(axis=1)\n",
    "count = (pd.DataFrame(count))\n",
    "prediction = pd.DataFrame((genres.values.dot((profile.T).values))/count.values, columns=(profile.T).columns, index=genres.index)\n",
    "prediction = prediction.T\n",
    "prediction.columns = ratings.columns\n",
    "prediction.index = ratings.index\n",
    "\n",
    "# Reset to 1-5 star scale\n",
    "\n",
    "OldMin = -1\n",
    "OldMax = 1\n",
    "NewMin = 1\n",
    "NewMax = 5\n",
    "prediction = (((prediction - OldMin) * (NewMax - NewMin)) / (OldMax - OldMin)) + NewMin\n"
   ]
  },
  {
   "cell_type": "code",
   "execution_count": 2,
   "metadata": {},
   "outputs": [
    {
     "name": "stdout",
     "output_type": "stream",
     "text": [
      "Wall time: 162 ms\n"
     ]
    },
    {
     "data": {
      "text/plain": [
       "0.7274366675243344"
      ]
     },
     "execution_count": 2,
     "metadata": {},
     "output_type": "execute_result"
    }
   ],
   "source": [
    "%%time\n",
    "MAE = abs(ratings_copy-prediction)\n",
    "MAE.mean(axis=1).mean()"
   ]
  },
  {
   "cell_type": "code",
   "execution_count": 3,
   "metadata": {},
   "outputs": [
    {
     "name": "stdout",
     "output_type": "stream",
     "text": [
      "Wall time: 360 ms\n"
     ]
    },
    {
     "data": {
      "text/plain": [
       "0.9022961851507607"
      ]
     },
     "execution_count": 3,
     "metadata": {},
     "output_type": "execute_result"
    }
   ],
   "source": [
    "%%time\n",
    "RMSE = ((((MAE**2).mean(axis=1)))**(1/2)).mean()\n",
    "RMSE"
   ]
  }
 ],
 "metadata": {
  "kernelspec": {
   "display_name": "Python 3",
   "language": "python",
   "name": "python3"
  },
  "language_info": {
   "codemirror_mode": {
    "name": "ipython",
    "version": 3
   },
   "file_extension": ".py",
   "mimetype": "text/x-python",
   "name": "python",
   "nbconvert_exporter": "python",
   "pygments_lexer": "ipython3",
   "version": "3.7.3"
  }
 },
 "nbformat": 4,
 "nbformat_minor": 2
}
