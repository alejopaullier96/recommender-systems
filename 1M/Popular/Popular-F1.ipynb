{
 "cells": [
  {
   "cell_type": "markdown",
   "metadata": {},
   "source": [
    "<img src=\"https://www3.um.edu.uy/logoum.jpg\" width=300>\n",
    "<h1 align=\"center\">Thesis - Popular F1</h1> \n",
    "<h2 align=\"center\">Alejo Paullier</h2> "
   ]
  },
  {
   "cell_type": "markdown",
   "metadata": {},
   "source": [
    "https://lkpy.lenskit.org/en/stable/knn.html"
   ]
  },
  {
   "cell_type": "code",
   "execution_count": 1,
   "metadata": {},
   "outputs": [],
   "source": [
    "from lenskit import batch, topn, util\n",
    "from lenskit import crossfold as xf\n",
    "from lenskit.algorithms import Recommender\n",
    "from lenskit.algorithms.basic import Popular\n",
    "from lenskit.metrics.predict import rmse\n",
    "import pandas as pd\n",
    "import numpy as np\n",
    "\n",
    "ratings = pd.read_csv('D:\\\\Escritorio\\\\UM\\\\Tesis\\\\ML 1M\\\\ratings.dat', sep='::',engine='python',\n",
    "                      names=['user', 'item', 'rating', 'timestamp'])\n",
    "\n",
    "\n",
    "def eval(aname, algo, train, test):\n",
    "    fittable = util.clone(algo) # Object cloning means to create an exact copy of the original object.\n",
    "    fittable = Recommender.adapt(fittable) \n",
    "    fittable.fit(train) # Entrenamos el algoritmo con el training dataset\n",
    "    users = test.user.unique() # Devuelve un array con los users unicos en el testing dataset\n",
    "    # now we run the recommender\n",
    "    recs = batch.recommend(fittable, users, 100)\n",
    "    # add the algorithm name for analyzability\n",
    "    recs['Algorithm'] = aname\n",
    "    return recs"
   ]
  },
  {
   "cell_type": "code",
   "execution_count": 2,
   "metadata": {},
   "outputs": [],
   "source": [
    "def model_trainer():\n",
    "    all_recs = []\n",
    "    test_data = []\n",
    "    pop = Popular(selector=None) # define algorithm\n",
    "\n",
    "    for train, test in xf.partition_users(ratings[['user', 'item', 'rating']], 5, xf.SampleFrac(0.2)):\n",
    "        test_data.append(test) # save testing data\n",
    "        all_recs.append(eval('Popular', pop, train, test))\n",
    "    all_recs = pd.concat(all_recs, ignore_index=True)\n",
    "    \n",
    "    test_data = pd.concat(test_data, ignore_index=True)\n",
    "    rla1 = topn.RecListAnalysis()\n",
    "    rla2 = topn.RecListAnalysis()\n",
    "    rla1.add_metric(topn.precision)\n",
    "    rla2.add_metric(topn.recall)\n",
    "    prec = rla1.compute(all_recs, test_data)\n",
    "    rec = rla2.compute(all_recs, test_data)\n",
    "    F1 = ((prec['precision'].values*rec['recall'].values*2)/(prec['precision'].values+rec['recall'].values))\n",
    "    F1 = np.nan_to_num(F1)\n",
    "    return [F1.mean(),prec['precision'].mean(),rec['recall'].mean()]"
   ]
  },
  {
   "cell_type": "code",
   "execution_count": 3,
   "metadata": {},
   "outputs": [
    {
     "name": "stderr",
     "output_type": "stream",
     "text": [
      "D:\\Programas\\Anaconda\\Anaconda\\Lib\\site-packages\\ipykernel_launcher.py:18: RuntimeWarning: invalid value encountered in true_divide\n"
     ]
    },
    {
     "name": "stdout",
     "output_type": "stream",
     "text": [
      "Wall time: 1h 1min 39s\n"
     ]
    }
   ],
   "source": [
    "%%time\n",
    "array = []\n",
    "for i in range(1,100,1):\n",
    "    array.append(model_trainer())"
   ]
  },
  {
   "cell_type": "code",
   "execution_count": 4,
   "metadata": {},
   "outputs": [
    {
     "data": {
      "text/html": [
       "<div>\n",
       "<style scoped>\n",
       "    .dataframe tbody tr th:only-of-type {\n",
       "        vertical-align: middle;\n",
       "    }\n",
       "\n",
       "    .dataframe tbody tr th {\n",
       "        vertical-align: top;\n",
       "    }\n",
       "\n",
       "    .dataframe thead th {\n",
       "        text-align: right;\n",
       "    }\n",
       "</style>\n",
       "<table border=\"1\" class=\"dataframe\">\n",
       "  <thead>\n",
       "    <tr style=\"text-align: right;\">\n",
       "      <th></th>\n",
       "      <th>F1</th>\n",
       "      <th>Precision</th>\n",
       "      <th>Recall</th>\n",
       "    </tr>\n",
       "  </thead>\n",
       "  <tbody>\n",
       "    <tr>\n",
       "      <th>0</th>\n",
       "      <td>0.113434</td>\n",
       "      <td>0.088245</td>\n",
       "      <td>0.295610</td>\n",
       "    </tr>\n",
       "    <tr>\n",
       "      <th>1</th>\n",
       "      <td>0.112927</td>\n",
       "      <td>0.087843</td>\n",
       "      <td>0.296438</td>\n",
       "    </tr>\n",
       "    <tr>\n",
       "      <th>2</th>\n",
       "      <td>0.112805</td>\n",
       "      <td>0.087788</td>\n",
       "      <td>0.295686</td>\n",
       "    </tr>\n",
       "    <tr>\n",
       "      <th>3</th>\n",
       "      <td>0.112772</td>\n",
       "      <td>0.087727</td>\n",
       "      <td>0.295083</td>\n",
       "    </tr>\n",
       "    <tr>\n",
       "      <th>4</th>\n",
       "      <td>0.112992</td>\n",
       "      <td>0.087800</td>\n",
       "      <td>0.297408</td>\n",
       "    </tr>\n",
       "  </tbody>\n",
       "</table>\n",
       "</div>"
      ],
      "text/plain": [
       "         F1  Precision    Recall\n",
       "0  0.113434   0.088245  0.295610\n",
       "1  0.112927   0.087843  0.296438\n",
       "2  0.112805   0.087788  0.295686\n",
       "3  0.112772   0.087727  0.295083\n",
       "4  0.112992   0.087800  0.297408"
      ]
     },
     "execution_count": 4,
     "metadata": {},
     "output_type": "execute_result"
    }
   ],
   "source": [
    "metric = pd.DataFrame(array)\n",
    "metric.columns = ['F1','Precision','Recall']\n",
    "metric.head(5)"
   ]
  },
  {
   "cell_type": "code",
   "execution_count": 5,
   "metadata": {},
   "outputs": [
    {
     "data": {
      "text/html": [
       "<div>\n",
       "<style scoped>\n",
       "    .dataframe tbody tr th:only-of-type {\n",
       "        vertical-align: middle;\n",
       "    }\n",
       "\n",
       "    .dataframe tbody tr th {\n",
       "        vertical-align: top;\n",
       "    }\n",
       "\n",
       "    .dataframe thead th {\n",
       "        text-align: right;\n",
       "    }\n",
       "</style>\n",
       "<table border=\"1\" class=\"dataframe\">\n",
       "  <thead>\n",
       "    <tr style=\"text-align: right;\">\n",
       "      <th></th>\n",
       "      <th>F1</th>\n",
       "      <th>Precision</th>\n",
       "      <th>Recall</th>\n",
       "    </tr>\n",
       "  </thead>\n",
       "  <tbody>\n",
       "    <tr>\n",
       "      <th>5</th>\n",
       "      <td>0.114005</td>\n",
       "      <td>0.088671</td>\n",
       "      <td>0.299125</td>\n",
       "    </tr>\n",
       "    <tr>\n",
       "      <th>31</th>\n",
       "      <td>0.113883</td>\n",
       "      <td>0.088606</td>\n",
       "      <td>0.298389</td>\n",
       "    </tr>\n",
       "    <tr>\n",
       "      <th>93</th>\n",
       "      <td>0.113805</td>\n",
       "      <td>0.088523</td>\n",
       "      <td>0.298386</td>\n",
       "    </tr>\n",
       "    <tr>\n",
       "      <th>62</th>\n",
       "      <td>0.113778</td>\n",
       "      <td>0.088427</td>\n",
       "      <td>0.299806</td>\n",
       "    </tr>\n",
       "    <tr>\n",
       "      <th>17</th>\n",
       "      <td>0.113764</td>\n",
       "      <td>0.088416</td>\n",
       "      <td>0.298332</td>\n",
       "    </tr>\n",
       "    <tr>\n",
       "      <th>71</th>\n",
       "      <td>0.113720</td>\n",
       "      <td>0.088396</td>\n",
       "      <td>0.298576</td>\n",
       "    </tr>\n",
       "    <tr>\n",
       "      <th>8</th>\n",
       "      <td>0.113693</td>\n",
       "      <td>0.088503</td>\n",
       "      <td>0.297286</td>\n",
       "    </tr>\n",
       "    <tr>\n",
       "      <th>97</th>\n",
       "      <td>0.113669</td>\n",
       "      <td>0.088346</td>\n",
       "      <td>0.300704</td>\n",
       "    </tr>\n",
       "    <tr>\n",
       "      <th>49</th>\n",
       "      <td>0.113652</td>\n",
       "      <td>0.088296</td>\n",
       "      <td>0.297514</td>\n",
       "    </tr>\n",
       "    <tr>\n",
       "      <th>23</th>\n",
       "      <td>0.113650</td>\n",
       "      <td>0.088526</td>\n",
       "      <td>0.294902</td>\n",
       "    </tr>\n",
       "  </tbody>\n",
       "</table>\n",
       "</div>"
      ],
      "text/plain": [
       "          F1  Precision    Recall\n",
       "5   0.114005   0.088671  0.299125\n",
       "31  0.113883   0.088606  0.298389\n",
       "93  0.113805   0.088523  0.298386\n",
       "62  0.113778   0.088427  0.299806\n",
       "17  0.113764   0.088416  0.298332\n",
       "71  0.113720   0.088396  0.298576\n",
       "8   0.113693   0.088503  0.297286\n",
       "97  0.113669   0.088346  0.300704\n",
       "49  0.113652   0.088296  0.297514\n",
       "23  0.113650   0.088526  0.294902"
      ]
     },
     "execution_count": 5,
     "metadata": {},
     "output_type": "execute_result"
    }
   ],
   "source": [
    "metric.sort_values(by=['F1'],ascending=False).head(10)"
   ]
  },
  {
   "cell_type": "code",
   "execution_count": 6,
   "metadata": {},
   "outputs": [],
   "source": [
    "metric.to_csv('metric_F1.csv', index=False)"
   ]
  }
 ],
 "metadata": {
  "kernelspec": {
   "display_name": "Python 3",
   "language": "python",
   "name": "python3"
  },
  "language_info": {
   "codemirror_mode": {
    "name": "ipython",
    "version": 3
   },
   "file_extension": ".py",
   "mimetype": "text/x-python",
   "name": "python",
   "nbconvert_exporter": "python",
   "pygments_lexer": "ipython3",
   "version": "3.7.3"
  }
 },
 "nbformat": 4,
 "nbformat_minor": 2
}
