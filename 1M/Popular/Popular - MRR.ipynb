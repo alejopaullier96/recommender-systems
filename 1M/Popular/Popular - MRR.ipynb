{
 "cells": [
  {
   "cell_type": "markdown",
   "metadata": {},
   "source": [
    "<img src=\"https://www3.um.edu.uy/logoum.jpg\" width=300>\n",
    "<h1 align=\"center\">Thesis - Popular MRR</h1> \n",
    "<h2 align=\"center\">Alejo Paullier</h2> "
   ]
  },
  {
   "cell_type": "markdown",
   "metadata": {},
   "source": [
    "https://lkpy.lenskit.org/en/stable/knn.html"
   ]
  },
  {
   "cell_type": "code",
   "execution_count": 1,
   "metadata": {},
   "outputs": [],
   "source": [
    "from lenskit import batch, topn, util\n",
    "from lenskit import crossfold as xf\n",
    "from lenskit.algorithms import Recommender\n",
    "from lenskit.algorithms.basic import Popular\n",
    "import pandas as pd\n",
    "import numpy as np\n",
    "\n",
    "ratings = pd.read_csv('D:\\\\Escritorio\\\\UM\\\\Tesis\\\\ML 1M\\\\ratings.dat', sep='::',engine='python',\n",
    "                      names=['user', 'item', 'rating', 'timestamp'])\n",
    "\n",
    "\n",
    "def eval(aname, algo, train, test):\n",
    "    fittable = util.clone(algo)\n",
    "    fittable = Recommender.adapt(fittable) \n",
    "    fittable.fit(train) \n",
    "    users = test.user.unique() \n",
    "    recs = batch.recommend(fittable, users, 100)\n",
    "    recs['Algorithm'] = aname\n",
    "    return recs"
   ]
  },
  {
   "cell_type": "code",
   "execution_count": 2,
   "metadata": {},
   "outputs": [],
   "source": [
    "def model_trainer():\n",
    "    all_recs = []\n",
    "    test_data = []\n",
    "    pop = Popular(selector=None) # define algorithm\n",
    "\n",
    "    for train, test in xf.partition_users(ratings[['user', 'item', 'rating']], 5, xf.SampleFrac(0.2)):\n",
    "        test_data.append(test) # save testing data\n",
    "        all_recs.append(eval('Popular', pop, train, test))\n",
    "\n",
    "    all_recs = pd.concat(all_recs, ignore_index=True)\n",
    "    test_data = pd.concat(test_data, ignore_index=True)\n",
    "\n",
    "    rla = topn.RecListAnalysis()\n",
    "    rla.add_metric(topn.recip_rank)\n",
    "    mrr = rla.compute(all_recs, test_data)\n",
    "    return mrr['recip_rank'].mean()"
   ]
  },
  {
   "cell_type": "code",
   "execution_count": 4,
   "metadata": {},
   "outputs": [
    {
     "name": "stdout",
     "output_type": "stream",
     "text": [
      "Wall time: 46min 12s\n"
     ]
    }
   ],
   "source": [
    "%%time\n",
    "array = []\n",
    "for i in range(1,100,1):\n",
    "    array.append(model_trainer())"
   ]
  },
  {
   "cell_type": "code",
   "execution_count": 5,
   "metadata": {},
   "outputs": [
    {
     "data": {
      "text/html": [
       "<div>\n",
       "<style scoped>\n",
       "    .dataframe tbody tr th:only-of-type {\n",
       "        vertical-align: middle;\n",
       "    }\n",
       "\n",
       "    .dataframe tbody tr th {\n",
       "        vertical-align: top;\n",
       "    }\n",
       "\n",
       "    .dataframe thead th {\n",
       "        text-align: right;\n",
       "    }\n",
       "</style>\n",
       "<table border=\"1\" class=\"dataframe\">\n",
       "  <thead>\n",
       "    <tr style=\"text-align: right;\">\n",
       "      <th></th>\n",
       "      <th>MRR</th>\n",
       "    </tr>\n",
       "  </thead>\n",
       "  <tbody>\n",
       "    <tr>\n",
       "      <th>0</th>\n",
       "      <td>0.392401</td>\n",
       "    </tr>\n",
       "    <tr>\n",
       "      <th>1</th>\n",
       "      <td>0.396792</td>\n",
       "    </tr>\n",
       "    <tr>\n",
       "      <th>2</th>\n",
       "      <td>0.396348</td>\n",
       "    </tr>\n",
       "    <tr>\n",
       "      <th>3</th>\n",
       "      <td>0.396200</td>\n",
       "    </tr>\n",
       "    <tr>\n",
       "      <th>4</th>\n",
       "      <td>0.393749</td>\n",
       "    </tr>\n",
       "  </tbody>\n",
       "</table>\n",
       "</div>"
      ],
      "text/plain": [
       "        MRR\n",
       "0  0.392401\n",
       "1  0.396792\n",
       "2  0.396348\n",
       "3  0.396200\n",
       "4  0.393749"
      ]
     },
     "execution_count": 5,
     "metadata": {},
     "output_type": "execute_result"
    }
   ],
   "source": [
    "metric = pd.DataFrame(array)\n",
    "metric.columns = ['MRR']\n",
    "metric.head(5)"
   ]
  },
  {
   "cell_type": "code",
   "execution_count": 6,
   "metadata": {},
   "outputs": [
    {
     "data": {
      "text/html": [
       "<div>\n",
       "<style scoped>\n",
       "    .dataframe tbody tr th:only-of-type {\n",
       "        vertical-align: middle;\n",
       "    }\n",
       "\n",
       "    .dataframe tbody tr th {\n",
       "        vertical-align: top;\n",
       "    }\n",
       "\n",
       "    .dataframe thead th {\n",
       "        text-align: right;\n",
       "    }\n",
       "</style>\n",
       "<table border=\"1\" class=\"dataframe\">\n",
       "  <thead>\n",
       "    <tr style=\"text-align: right;\">\n",
       "      <th></th>\n",
       "      <th>MRR</th>\n",
       "    </tr>\n",
       "  </thead>\n",
       "  <tbody>\n",
       "    <tr>\n",
       "      <th>73</th>\n",
       "      <td>0.402202</td>\n",
       "    </tr>\n",
       "    <tr>\n",
       "      <th>27</th>\n",
       "      <td>0.400647</td>\n",
       "    </tr>\n",
       "    <tr>\n",
       "      <th>67</th>\n",
       "      <td>0.400278</td>\n",
       "    </tr>\n",
       "    <tr>\n",
       "      <th>34</th>\n",
       "      <td>0.400075</td>\n",
       "    </tr>\n",
       "    <tr>\n",
       "      <th>91</th>\n",
       "      <td>0.399390</td>\n",
       "    </tr>\n",
       "    <tr>\n",
       "      <th>22</th>\n",
       "      <td>0.399162</td>\n",
       "    </tr>\n",
       "    <tr>\n",
       "      <th>28</th>\n",
       "      <td>0.398564</td>\n",
       "    </tr>\n",
       "    <tr>\n",
       "      <th>82</th>\n",
       "      <td>0.398502</td>\n",
       "    </tr>\n",
       "    <tr>\n",
       "      <th>41</th>\n",
       "      <td>0.398440</td>\n",
       "    </tr>\n",
       "    <tr>\n",
       "      <th>23</th>\n",
       "      <td>0.398353</td>\n",
       "    </tr>\n",
       "  </tbody>\n",
       "</table>\n",
       "</div>"
      ],
      "text/plain": [
       "         MRR\n",
       "73  0.402202\n",
       "27  0.400647\n",
       "67  0.400278\n",
       "34  0.400075\n",
       "91  0.399390\n",
       "22  0.399162\n",
       "28  0.398564\n",
       "82  0.398502\n",
       "41  0.398440\n",
       "23  0.398353"
      ]
     },
     "execution_count": 6,
     "metadata": {},
     "output_type": "execute_result"
    }
   ],
   "source": [
    "metric.sort_values(by=['MRR'],ascending=False).head(10)"
   ]
  },
  {
   "cell_type": "code",
   "execution_count": 7,
   "metadata": {},
   "outputs": [],
   "source": [
    "metric.to_csv('metric_MRR.csv', index=False)"
   ]
  },
  {
   "cell_type": "code",
   "execution_count": 10,
   "metadata": {},
   "outputs": [
    {
     "data": {
      "text/html": [
       "<div>\n",
       "<style scoped>\n",
       "    .dataframe tbody tr th:only-of-type {\n",
       "        vertical-align: middle;\n",
       "    }\n",
       "\n",
       "    .dataframe tbody tr th {\n",
       "        vertical-align: top;\n",
       "    }\n",
       "\n",
       "    .dataframe thead th {\n",
       "        text-align: right;\n",
       "    }\n",
       "</style>\n",
       "<table border=\"1\" class=\"dataframe\">\n",
       "  <thead>\n",
       "    <tr style=\"text-align: right;\">\n",
       "      <th></th>\n",
       "      <th>item</th>\n",
       "      <th>score</th>\n",
       "      <th>user</th>\n",
       "      <th>rank</th>\n",
       "      <th>Algorithm</th>\n",
       "    </tr>\n",
       "  </thead>\n",
       "  <tbody>\n",
       "    <tr>\n",
       "      <th>0</th>\n",
       "      <td>50</td>\n",
       "      <td>560.0</td>\n",
       "      <td>19</td>\n",
       "      <td>1</td>\n",
       "      <td>Popular</td>\n",
       "    </tr>\n",
       "    <tr>\n",
       "      <th>1</th>\n",
       "      <td>100</td>\n",
       "      <td>490.0</td>\n",
       "      <td>19</td>\n",
       "      <td>2</td>\n",
       "      <td>Popular</td>\n",
       "    </tr>\n",
       "    <tr>\n",
       "      <th>2</th>\n",
       "      <td>181</td>\n",
       "      <td>485.0</td>\n",
       "      <td>19</td>\n",
       "      <td>3</td>\n",
       "      <td>Popular</td>\n",
       "    </tr>\n",
       "    <tr>\n",
       "      <th>3</th>\n",
       "      <td>294</td>\n",
       "      <td>466.0</td>\n",
       "      <td>19</td>\n",
       "      <td>4</td>\n",
       "      <td>Popular</td>\n",
       "    </tr>\n",
       "    <tr>\n",
       "      <th>4</th>\n",
       "      <td>286</td>\n",
       "      <td>461.0</td>\n",
       "      <td>19</td>\n",
       "      <td>5</td>\n",
       "      <td>Popular</td>\n",
       "    </tr>\n",
       "    <tr>\n",
       "      <th>5</th>\n",
       "      <td>1</td>\n",
       "      <td>427.0</td>\n",
       "      <td>19</td>\n",
       "      <td>6</td>\n",
       "      <td>Popular</td>\n",
       "    </tr>\n",
       "    <tr>\n",
       "      <th>6</th>\n",
       "      <td>300</td>\n",
       "      <td>415.0</td>\n",
       "      <td>19</td>\n",
       "      <td>7</td>\n",
       "      <td>Popular</td>\n",
       "    </tr>\n",
       "    <tr>\n",
       "      <th>7</th>\n",
       "      <td>121</td>\n",
       "      <td>413.0</td>\n",
       "      <td>19</td>\n",
       "      <td>8</td>\n",
       "      <td>Popular</td>\n",
       "    </tr>\n",
       "    <tr>\n",
       "      <th>8</th>\n",
       "      <td>174</td>\n",
       "      <td>402.0</td>\n",
       "      <td>19</td>\n",
       "      <td>9</td>\n",
       "      <td>Popular</td>\n",
       "    </tr>\n",
       "    <tr>\n",
       "      <th>9</th>\n",
       "      <td>127</td>\n",
       "      <td>395.0</td>\n",
       "      <td>19</td>\n",
       "      <td>10</td>\n",
       "      <td>Popular</td>\n",
       "    </tr>\n",
       "  </tbody>\n",
       "</table>\n",
       "</div>"
      ],
      "text/plain": [
       "   item  score  user  rank Algorithm\n",
       "0    50  560.0    19     1   Popular\n",
       "1   100  490.0    19     2   Popular\n",
       "2   181  485.0    19     3   Popular\n",
       "3   294  466.0    19     4   Popular\n",
       "4   286  461.0    19     5   Popular\n",
       "5     1  427.0    19     6   Popular\n",
       "6   300  415.0    19     7   Popular\n",
       "7   121  413.0    19     8   Popular\n",
       "8   174  402.0    19     9   Popular\n",
       "9   127  395.0    19    10   Popular"
      ]
     },
     "execution_count": 10,
     "metadata": {},
     "output_type": "execute_result"
    }
   ],
   "source": [
    "all_recs.head(10)"
   ]
  },
  {
   "cell_type": "code",
   "execution_count": 11,
   "metadata": {},
   "outputs": [
    {
     "data": {
      "text/plain": [
       "array([  50,  100,  181,  294,  286,    1,  300,  121,  174,  127,    7,\n",
       "         98,   56,  237,  117,  222,  172,  204,  405,   79,  151,  173,\n",
       "         69,  748,  269,  168,    9,  257,  318,   25,  195,  423,   15,\n",
       "         22,  276,   96,  328,  302,  216,  183,  118,   89,  234,   64,\n",
       "        176,   28,  191,  275,  111,   12,  742,  357,  135,   82,   97,\n",
       "        546,  289,  333,  238,  186,   70,  475,  196,  132,  323,  125,\n",
       "        483,  228,  194,  185,  144,   11,  197,  245,  301,  496,  282,\n",
       "        273,  568,   71,  182,  471,  265,  161,  179,  427,  235,  322,\n",
       "        143,  678,  271,  180,  435,   95,   88,  175,  508,  215,  603,\n",
       "        187,  313,  210,  202,  268,    4,  211,  385,  515,  597,  230,\n",
       "        403,  272,  208,  250,  588,  527,  134,  474,  298,  209,  393,\n",
       "        124,  274,  340,  284,   14,  751,  147,  288,  153,  655,    8,\n",
       "        200,  258,  480,  307,   13,  203,  591,  327,   23,  514,  479,\n",
       "        845,  566,  732,  326,  419,   58,   99,  511,   24,  255,  283,\n",
       "         83,  133,  188,  137,  367,  651,  402,  432,  154,  451,  229,\n",
       "        319,  218,  321,  411,  523,  226,  433,  582,  199,  315,  285,\n",
       "        628,  410,  692,  259,  248,  498,  476,  252,  150,  240,  227,\n",
       "         31,  660,   55,   86,  304,  332,  462,  310,  358,   91,  231,\n",
       "        684,  193,   66,  739,  472,  443,  431,  690,  654,  763,  156,\n",
       "        281,   42, 1028,  205,  347, 1047,  879,  270,  735,  705,  213,\n",
       "        241,  109,  303,  243,  260,  249,  178,  520,  756,  531,   72,\n",
       "        164,  293,  455,   77,   87,  239,  550,  559,  177,  484,   94,\n",
       "        685, 1016,    2,   68,  148,  129,   53,  325,   62,  291,  346,\n",
       "        482,  223,   47,  657,   73,  198,  596,  418,  485,  750,  501,\n",
       "        116,  343,  190,  324,  246,  528,  449,  521,  510,  192,  292,\n",
       "         65,  169,  157,  526,  473], dtype=int64)"
      ]
     },
     "execution_count": 11,
     "metadata": {},
     "output_type": "execute_result"
    }
   ],
   "source": [
    "all_recs.item.unique()"
   ]
  },
  {
   "cell_type": "code",
   "execution_count": 12,
   "metadata": {},
   "outputs": [
    {
     "data": {
      "text/plain": [
       "item\n",
       "50     583\n",
       "258    509\n",
       "100    508\n",
       "181    507\n",
       "294    485\n",
       "286    481\n",
       "288    478\n",
       "1      452\n",
       "300    431\n",
       "121    429\n",
       "174    420\n",
       "127    413\n",
       "56     394\n",
       "7      392\n",
       "98     390\n",
       "237    384\n",
       "117    378\n",
       "172    367\n",
       "222    365\n",
       "313    350\n",
       "Name: rating, dtype: int64"
      ]
     },
     "execution_count": 12,
     "metadata": {},
     "output_type": "execute_result"
    }
   ],
   "source": [
    " ratings.groupby(\"item\").count()[\"rating\"].sort_values(ascending=False).head(20)"
   ]
  }
 ],
 "metadata": {
  "kernelspec": {
   "display_name": "Python 3",
   "language": "python",
   "name": "python3"
  },
  "language_info": {
   "codemirror_mode": {
    "name": "ipython",
    "version": 3
   },
   "file_extension": ".py",
   "mimetype": "text/x-python",
   "name": "python",
   "nbconvert_exporter": "python",
   "pygments_lexer": "ipython3",
   "version": "3.7.3"
  }
 },
 "nbformat": 4,
 "nbformat_minor": 2
}
