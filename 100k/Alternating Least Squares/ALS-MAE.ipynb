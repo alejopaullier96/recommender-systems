{
 "cells": [
  {
   "cell_type": "markdown",
   "metadata": {},
   "source": [
    "<img src=\"https://www3.um.edu.uy/logoum.jpg\" width=300>\n",
    "<h1 align=\"center\">Thesis - ALS MAE</h1> \n",
    "<h2 align=\"center\">Alejo Paullier</h2> "
   ]
  },
  {
   "cell_type": "markdown",
   "metadata": {},
   "source": [
    "https://lkpy.lenskit.org/en/stable/knn.html"
   ]
  },
  {
   "cell_type": "code",
   "execution_count": 1,
   "metadata": {},
   "outputs": [],
   "source": [
    "from lenskit import batch, topn, util\n",
    "from lenskit import crossfold as xf\n",
    "from lenskit.algorithms import Recommender, als\n",
    "from lenskit.algorithms.als import BiasedMF\n",
    "from lenskit.metrics.predict import mae\n",
    "import pandas as pd\n",
    "import numpy as np\n",
    "\n",
    "ratings = pd.read_csv('C:\\\\Users\\\\Alejo\\\\Tesis\\\\Demo\\\\ml-100k\\\\u.data', sep='\\t',\n",
    "                      names=['user', 'item', 'rating', 'timestamp'])\n",
    "\n",
    "\n",
    "def eval(aname, algo, train, test):\n",
    "    fittable = util.clone(algo) # Object cloning means to create an exact copy of the original object.\n",
    "    fittable = Recommender.adapt(fittable) \n",
    "    fittable.fit(train) # train the algorithm with the training dataset\n",
    "    # Now we run the recommender:\n",
    "    preds = batch.predict(fittable, test)\n",
    "    # add the algorithm name for analyzability\n",
    "    return preds"
   ]
  },
  {
   "cell_type": "code",
   "execution_count": null,
   "metadata": {},
   "outputs": [],
   "source": [
    "def model_trainer(features,reg):\n",
    "    all_recs = []\n",
    "    test_data = []\n",
    "    features=int(features)\n",
    "    als = BiasedMF(features=features, iterations=100, reg=reg, damping=5, bias=True,  progress=None) # define algorithm\n",
    "    \n",
    "    for train, test in xf.partition_users(ratings[['user', 'item', 'rating']], 5, xf.SampleFrac(0.2)):\n",
    "        test_data.append(test) # save testing data\n",
    "        all_recs.append(eval('ALS', als, train, test))\n",
    "    \n",
    "    all_recs = pd.concat(all_recs, ignore_index=True)\n",
    "\n",
    "    metric = mae(all_recs['prediction'], all_recs['rating'])\n",
    "    return metric"
   ]
  },
  {
   "cell_type": "code",
   "execution_count": null,
   "metadata": {},
   "outputs": [],
   "source": [
    "from hyperopt import fmin, tpe, hp, STATUS_OK\n",
    "\n",
    "def objective(params):\n",
    "    features = params['features']\n",
    "    reg = params['reg']\n",
    "    metric = model_trainer(features,reg)\n",
    "    print([features,reg,metric],',')\n",
    "    return {'loss': metric, 'status': STATUS_OK}\n",
    "\n",
    "space={'features': hp.uniform('features', 1, 100),\n",
    "       'reg': hp.uniform('reg',0.01,0.4)}\n",
    "\n",
    "best = fmin(objective, space, algo=tpe.suggest,max_evals=100)"
   ]
  },
  {
   "cell_type": "code",
   "execution_count": null,
   "metadata": {},
   "outputs": [],
   "source": [
    "metric = pd.DataFrame(array)\n",
    "metric.columns = ['features','reg','MAE']\n",
    "metric.head(5)"
   ]
  },
  {
   "cell_type": "code",
   "execution_count": 7,
   "metadata": {},
   "outputs": [
    {
     "data": {
      "text/html": [
       "<div>\n",
       "<style scoped>\n",
       "    .dataframe tbody tr th:only-of-type {\n",
       "        vertical-align: middle;\n",
       "    }\n",
       "\n",
       "    .dataframe tbody tr th {\n",
       "        vertical-align: top;\n",
       "    }\n",
       "\n",
       "    .dataframe thead th {\n",
       "        text-align: right;\n",
       "    }\n",
       "</style>\n",
       "<table border=\"1\" class=\"dataframe\">\n",
       "  <thead>\n",
       "    <tr style=\"text-align: right;\">\n",
       "      <th></th>\n",
       "      <th>features</th>\n",
       "      <th>reg</th>\n",
       "      <th>MAE</th>\n",
       "    </tr>\n",
       "  </thead>\n",
       "  <tbody>\n",
       "    <tr>\n",
       "      <th>22</th>\n",
       "      <td>97.304953</td>\n",
       "      <td>0.147315</td>\n",
       "      <td>0.705833</td>\n",
       "    </tr>\n",
       "    <tr>\n",
       "      <th>21</th>\n",
       "      <td>86.356592</td>\n",
       "      <td>0.144310</td>\n",
       "      <td>0.705870</td>\n",
       "    </tr>\n",
       "    <tr>\n",
       "      <th>48</th>\n",
       "      <td>53.688314</td>\n",
       "      <td>0.202171</td>\n",
       "      <td>0.706246</td>\n",
       "    </tr>\n",
       "    <tr>\n",
       "      <th>84</th>\n",
       "      <td>99.804998</td>\n",
       "      <td>0.325467</td>\n",
       "      <td>0.707924</td>\n",
       "    </tr>\n",
       "    <tr>\n",
       "      <th>50</th>\n",
       "      <td>95.699042</td>\n",
       "      <td>0.088812</td>\n",
       "      <td>0.708094</td>\n",
       "    </tr>\n",
       "    <tr>\n",
       "      <th>25</th>\n",
       "      <td>85.145949</td>\n",
       "      <td>0.130355</td>\n",
       "      <td>0.708622</td>\n",
       "    </tr>\n",
       "    <tr>\n",
       "      <th>71</th>\n",
       "      <td>60.381219</td>\n",
       "      <td>0.115053</td>\n",
       "      <td>0.709045</td>\n",
       "    </tr>\n",
       "    <tr>\n",
       "      <th>74</th>\n",
       "      <td>31.430578</td>\n",
       "      <td>0.227052</td>\n",
       "      <td>0.709122</td>\n",
       "    </tr>\n",
       "    <tr>\n",
       "      <th>99</th>\n",
       "      <td>87.190893</td>\n",
       "      <td>0.175242</td>\n",
       "      <td>0.709458</td>\n",
       "    </tr>\n",
       "    <tr>\n",
       "      <th>42</th>\n",
       "      <td>63.378512</td>\n",
       "      <td>0.220192</td>\n",
       "      <td>0.709642</td>\n",
       "    </tr>\n",
       "  </tbody>\n",
       "</table>\n",
       "</div>"
      ],
      "text/plain": [
       "     features       reg       MAE\n",
       "22  97.304953  0.147315  0.705833\n",
       "21  86.356592  0.144310  0.705870\n",
       "48  53.688314  0.202171  0.706246\n",
       "84  99.804998  0.325467  0.707924\n",
       "50  95.699042  0.088812  0.708094\n",
       "25  85.145949  0.130355  0.708622\n",
       "71  60.381219  0.115053  0.709045\n",
       "74  31.430578  0.227052  0.709122\n",
       "99  87.190893  0.175242  0.709458\n",
       "42  63.378512  0.220192  0.709642"
      ]
     },
     "execution_count": 7,
     "metadata": {},
     "output_type": "execute_result"
    }
   ],
   "source": [
    "metric.sort_values(by=['MAE'],ascending=True).head(10)"
   ]
  },
  {
   "cell_type": "code",
   "execution_count": null,
   "metadata": {},
   "outputs": [],
   "source": [
    "metric.to_csv('metric_MAE.csv', index=False)"
   ]
  },
  {
   "cell_type": "code",
   "execution_count": 4,
   "metadata": {},
   "outputs": [],
   "source": [
    "metric = pd.read_csv('C:\\\\Users\\\\Alejo\\\\Tesis\\\\Algoritmos\\\\Alternating Least Squares\\\\results\\\\metric_MAE.csv')"
   ]
  },
  {
   "cell_type": "code",
   "execution_count": 6,
   "metadata": {},
   "outputs": [
    {
     "data": {
      "image/png": "[encoded data removed]",
      "text/plain": [
       "<Figure size 432x288 with 2 Axes>"
      ]
     },
     "metadata": {
      "needs_background": "light"
     },
     "output_type": "display_data"
    }
   ],
   "source": [
    "import matplotlib.pyplot as plt\n",
    "from matplotlib import cm\n",
    "colormap = cm.hot\n",
    "x = metric['reg']\n",
    "y = metric['features'] \n",
    "c = metric['MAE']\n",
    "\n",
    "\n",
    "fig = plt.figure()\n",
    "img = plt.scatter(x, y, c=c, cmap=plt.jet())\n",
    "plt.xlabel('reg')\n",
    "plt.ylabel('features')\n",
    "fig.colorbar(img)\n",
    "plt.show()"
   ]
  }
 ],
 "metadata": {
  "kernelspec": {
   "display_name": "Python 3",
   "language": "python",
   "name": "python3"
  },
  "language_info": {
   "codemirror_mode": {
    "name": "ipython",
    "version": 3
   },
   "file_extension": ".py",
   "mimetype": "text/x-python",
   "name": "python",
   "nbconvert_exporter": "python",
   "pygments_lexer": "ipython3",
   "version": "3.7.3"
  }
 },
 "nbformat": 4,
 "nbformat_minor": 2
}
