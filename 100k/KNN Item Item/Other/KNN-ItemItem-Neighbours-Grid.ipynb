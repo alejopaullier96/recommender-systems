{
 "cells": [
  {
   "cell_type": "markdown",
   "metadata": {},
   "source": [
    "<img src=\"https://www3.um.edu.uy/logoum.jpg\" width=300>\n",
    "<h1 align=\"center\">Thesis - KNN Item Item hyperparameter optimization</h1> \n",
    "<h2 align=\"center\">Alejo Paullier</h2> "
   ]
  },
  {
   "cell_type": "markdown",
   "metadata": {},
   "source": [
    "* https://lkpy.lenskit.org/en/stable/knn.html\n",
    "* https://parameter-sherpa.readthedocs.io/en/latest/algorithms/algorithms.html"
   ]
  },
  {
   "cell_type": "code",
   "execution_count": 2,
   "metadata": {},
   "outputs": [],
   "source": [
    "# lOAD LIBRARIES\n",
    "\n",
    "from lenskit import batch, topn, util\n",
    "from lenskit import crossfold as xf\n",
    "from lenskit.algorithms import Recommender, als, item_knn as knn\n",
    "from lenskit import topn\n",
    "import pandas as pd\n",
    "import numpy as np\n",
    "import sherpa\n",
    "\n",
    "# LOAD DATA \n",
    "\n",
    "ratings = pd.read_csv('C:\\\\Users\\\\Alejo\\\\Tesis\\\\Demo\\\\ml-100k\\\\u.data', sep='\\t',\n",
    "                      names=['user', 'item', 'rating', 'timestamp'])"
   ]
  },
  {
   "cell_type": "code",
   "execution_count": 16,
   "metadata": {},
   "outputs": [],
   "source": [
    "def eval(aname, algo, train, test):\n",
    "    fittable = util.clone(algo) # Object cloning means to create an exact copy of the original object.\n",
    "    fittable = Recommender.adapt(fittable) \n",
    "    fittable.fit(train) # Entrenamos el algoritmo con el training dataset\n",
    "    users = test.user.unique() # Devuelve un array con los users unicos en el testing dataset\n",
    "    # now we run the recommender\n",
    "    recs = batch.recommend(fittable, users, 100)\n",
    "    # add the algorithm name for analyzability\n",
    "    recs['Algorithm'] = aname\n",
    "    return recs"
   ]
  },
  {
   "cell_type": "code",
   "execution_count": 17,
   "metadata": {},
   "outputs": [],
   "source": [
    "def model_trainer(neighbours):\n",
    "    all_recs = []\n",
    "    test_data = []\n",
    "    algo_ii = knn.ItemItem(neighbours,aggregate='weighted-average')\n",
    "    for train, test in xf.partition_users(ratings[['user', 'item', 'rating']], 1, xf.SampleFrac(0.2)):\n",
    "        test_data.append(test)\n",
    "        all_recs.append(eval('ItemItem', algo_ii, train, test))\n",
    "    all_recs = pd.concat(all_recs, ignore_index=True)\n",
    "    all_recs.head()\n",
    "    test_data = pd.concat(test_data, ignore_index=True)\n",
    "    rla = topn.RecListAnalysis()\n",
    "    rla.add_metric(topn.ndcg)\n",
    "    results = rla.compute(all_recs, test_data)\n",
    "    results.head()\n",
    "    return -results.groupby('Algorithm').ndcg.mean()\n"
   ]
  },
  {
   "cell_type": "markdown",
   "metadata": {},
   "source": [
    "# Parameters"
   ]
  },
  {
   "cell_type": "code",
   "execution_count": 3,
   "metadata": {},
   "outputs": [],
   "source": [
    "parameters = [sherpa.Discrete(name='neighbours', range=[1,10], scale='linear')]"
   ]
  },
  {
   "cell_type": "markdown",
   "metadata": {},
   "source": [
    "# Algorithms"
   ]
  },
  {
   "cell_type": "code",
   "execution_count": 4,
   "metadata": {},
   "outputs": [],
   "source": [
    "algorithm = sherpa.algorithms.RandomSearch(max_num_trials=8)"
   ]
  },
  {
   "cell_type": "markdown",
   "metadata": {},
   "source": [
    "# Study"
   ]
  },
  {
   "cell_type": "code",
   "execution_count": 5,
   "metadata": {},
   "outputs": [
    {
     "ename": "OSError",
     "evalue": "Dashboard not supported on Windows. Disable the dashboard and save the finalized study instead.",
     "output_type": "error",
     "traceback": [
      "\u001b[1;31m---------------------------------------------------------------------------\u001b[0m",
      "\u001b[1;31mOSError\u001b[0m                                   Traceback (most recent call last)",
      "\u001b[1;32m<ipython-input-5-715a11539089>\u001b[0m in \u001b[0;36m<module>\u001b[1;34m\u001b[0m\n\u001b[0;32m      1\u001b[0m study = sherpa.Study(parameters=parameters,\n\u001b[0;32m      2\u001b[0m                  \u001b[0malgorithm\u001b[0m\u001b[1;33m=\u001b[0m\u001b[0malgorithm\u001b[0m\u001b[1;33m,\u001b[0m\u001b[1;33m\u001b[0m\u001b[1;33m\u001b[0m\u001b[0m\n\u001b[1;32m----> 3\u001b[1;33m                  lower_is_better=False)\n\u001b[0m",
      "\u001b[1;32m~\\sherpa\\sherpa\\core.py\u001b[0m in \u001b[0;36m__init__\u001b[1;34m(self, parameters, algorithm, lower_is_better, stopping_rule, dashboard_port, disable_dashboard, output_dir)\u001b[0m\n\u001b[0;32m     99\u001b[0m         \u001b[1;32mif\u001b[0m \u001b[1;32mnot\u001b[0m \u001b[0mdisable_dashboard\u001b[0m\u001b[1;33m:\u001b[0m\u001b[1;33m\u001b[0m\u001b[1;33m\u001b[0m\u001b[0m\n\u001b[0;32m    100\u001b[0m             \u001b[1;32mif\u001b[0m \u001b[0msys\u001b[0m\u001b[1;33m.\u001b[0m\u001b[0mplatform\u001b[0m \u001b[1;32min\u001b[0m \u001b[1;33m[\u001b[0m\u001b[1;34m'cygwin'\u001b[0m\u001b[1;33m,\u001b[0m \u001b[1;34m'win32'\u001b[0m\u001b[1;33m]\u001b[0m\u001b[1;33m:\u001b[0m\u001b[1;33m\u001b[0m\u001b[1;33m\u001b[0m\u001b[0m\n\u001b[1;32m--> 101\u001b[1;33m                 raise EnvironmentError('Dashboard not supported on Windows. Disable the dashboard and save the '\n\u001b[0m\u001b[0;32m    102\u001b[0m                                        'finalized study instead.')\n\u001b[0;32m    103\u001b[0m \u001b[1;33m\u001b[0m\u001b[0m\n",
      "\u001b[1;31mOSError\u001b[0m: Dashboard not supported on Windows. Disable the dashboard and save the finalized study instead."
     ]
    }
   ],
   "source": [
    "study = sherpa.Study(parameters=parameters,\n",
    "                 algorithm=algorithm,\n",
    "                 lower_is_better=False)"
   ]
  },
  {
   "cell_type": "markdown",
   "metadata": {},
   "source": [
    "# Trial"
   ]
  },
  {
   "cell_type": "code",
   "execution_count": null,
   "metadata": {},
   "outputs": [],
   "source": [
    "trial = study.get_suggestion()"
   ]
  },
  {
   "cell_type": "code",
   "execution_count": null,
   "metadata": {},
   "outputs": [],
   "source": [
    "num_iterations = 8\n",
    "for trial in study:\n",
    "    model = model_trainer(train.parameters)\n",
    "    for iteration in range(num_iterations):\n",
    "        training_error = model.fit(epochs=1)\n",
    "        validation_error = model.evaluate()\n",
    "        study.add_observation(trial=trial,\n",
    "                              iteration=iteration,\n",
    "                              objective=validation_error,\n",
    "                              context={'training_error': training_error})\n",
    "    study.finalize(trial)"
   ]
  },
  {
   "cell_type": "code",
   "execution_count": null,
   "metadata": {
    "scrolled": false
   },
   "outputs": [],
   "source": [
    "from hyperopt import fmin, tpe, hp, STATUS_OK\n",
    "\n",
    "def objective(x):\n",
    "    return {'loss': model_trainer(x), 'status': STATUS_OK }\n",
    "average=[]\n",
    "for y in range(1,6):\n",
    "    best = fmin(objective,\n",
    "        space=hp.quniform('x', 1, 30),\n",
    "        algo=tpe.suggest,\n",
    "        max_evals=20\n",
    "               )\n",
    "    average.append(best)\n",
    "return average"
   ]
  },
  {
   "cell_type": "markdown",
   "metadata": {},
   "source": [
    "# Output"
   ]
  },
  {
   "cell_type": "code",
   "execution_count": null,
   "metadata": {},
   "outputs": [],
   "source": [
    "[{'x': 24.662888246908466},\n",
    " {'x': 16.765983379302043},\n",
    " {'x': 18.317671770214982},\n",
    " {'x': 24.685607251830028},\n",
    " {'x': 19.806044815779607},\n",
    " {'x': 29.48438448238169},\n",
    " {'x': 8.0991877556541},\n",
    " {'x': 11.199447121503693},\n",
    " {'x': 24.582880111854013},\n",
    " {'x': 8.399833875607502}]\n",
    "\n",
    "100%|██████████████████████████████████████████████████| 20/20 [03:55<00:00, 10.93s/it, best loss: -0.0976920342362734]\n",
    "100%|█████████████████████████████████████████████████| 20/20 [03:42<00:00, 11.11s/it, best loss: -0.10159618987493899]\n",
    "100%|█████████████████████████████████████████████████| 20/20 [03:37<00:00, 11.05s/it, best loss: -0.09763179535129299]\n",
    "100%|█████████████████████████████████████████████████| 20/20 [03:45<00:00, 11.16s/it, best loss: -0.10022280319405072]\n",
    "100%|█████████████████████████████████████████████████| 20/20 [03:40<00:00, 11.07s/it, best loss: -0.10125246825974063]\n",
    "100%|█████████████████████████████████████████████████| 20/20 [07:19<00:00, 11.87s/it, best loss: -0.09793780178603041]\n",
    "100%|█████████████████████████████████████████████████| 20/20 [03:43<00:00, 11.13s/it, best loss: -0.10112992547143698]\n",
    "100%|█████████████████████████████████████████████████| 20/20 [03:36<00:00, 10.98s/it, best loss: -0.09963492665250731]\n",
    "100%|█████████████████████████████████████████████████| 20/20 [03:41<00:00, 10.88s/it, best loss: -0.09796062967655288]\n",
    "100%|█████████████████████████████████████████████████| 20/20 [03:46<00:00, 10.63s/it, best loss: -0.10072238410400004]"
   ]
  }
 ],
 "metadata": {
  "kernelspec": {
   "display_name": "Python 3",
   "language": "python",
   "name": "python3"
  },
  "language_info": {
   "codemirror_mode": {
    "name": "ipython",
    "version": 3
   },
   "file_extension": ".py",
   "mimetype": "text/x-python",
   "name": "python",
   "nbconvert_exporter": "python",
   "pygments_lexer": "ipython3",
   "version": "3.7.3"
  }
 },
 "nbformat": 4,
 "nbformat_minor": 2
}
