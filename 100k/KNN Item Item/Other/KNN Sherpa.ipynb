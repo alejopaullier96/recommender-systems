{
 "cells": [
  {
   "cell_type": "markdown",
   "metadata": {},
   "source": [
    "<img src=\"https://www3.um.edu.uy/logoum.jpg\" width=300>\n",
    "    <h1 align=\"center\">Thesis - Alternating Least Squares hyperparameter optimization</h1> \n",
    "<h2 align=\"center\">Alejo Paullier</h2> "
   ]
  },
  {
   "cell_type": "markdown",
   "metadata": {},
   "source": [
    "# Import libraries"
   ]
  },
  {
   "cell_type": "code",
   "execution_count": 20,
   "metadata": {},
   "outputs": [],
   "source": [
    "import pandas as pd\n",
    "import numpy as np\n",
    "import scipy\n",
    "import sklearn\n",
    "import flask\n",
    "import GPyOpt\n",
    "import sherpa\n",
    "import pylab as pl\n",
    "import time\n",
    "\n",
    "import sherpa.algorithms.bayesian_optimization as bayesian_optimization\n",
    "from lenskit import batch, topn, util\n",
    "from lenskit import crossfold as xf\n",
    "from lenskit.algorithms import Recommender, item_knn as knn\n",
    "from lenskit import topn"
   ]
  },
  {
   "cell_type": "markdown",
   "metadata": {},
   "source": [
    "# Import data & define evaluation function"
   ]
  },
  {
   "cell_type": "code",
   "execution_count": 21,
   "metadata": {},
   "outputs": [],
   "source": [
    "ratings = pd.read_csv('C:\\\\Users\\\\Alejo\\\\Tesis\\\\Demo\\\\ml-100k\\\\u.data', sep='\\t',\n",
    "                      names=['user', 'item', 'rating', 'timestamp'])\n",
    "\n",
    "\n",
    "def eval(aname, algo, train, test):\n",
    "    fittable = util.clone(algo) # Object cloning means to create an exact copy of the original object.\n",
    "    fittable = Recommender.adapt(fittable) \n",
    "    fittable.fit(train) # Entrenamos el algoritmo con el training dataset\n",
    "    users = test.user.unique() # Devuelve un array con los users unicos en el testing dataset\n",
    "    # now we run the recommender\n",
    "    recs = batch.recommend(fittable, users, 100)\n",
    "    # add the algorithm name for analyzability\n",
    "    recs['Algorithm'] = aname\n",
    "    return recs"
   ]
  },
  {
   "cell_type": "markdown",
   "metadata": {},
   "source": [
    "# Define model"
   ]
  },
  {
   "cell_type": "code",
   "execution_count": 27,
   "metadata": {},
   "outputs": [],
   "source": [
    "def model_trainer(neighbours):\n",
    "    all_recs = []\n",
    "    test_data = []\n",
    "    algo_ii = knn.ItemItem(neighbours,aggregate='weighted-average')\n",
    "    for train, test in xf.partition_users(ratings[['user', 'item', 'rating']], 1, xf.SampleFrac(0.2)):\n",
    "        test_data.append(test)\n",
    "        all_recs.append(eval('ItemItem', algo_ii, train, test))\n",
    "    all_recs = pd.concat(all_recs, ignore_index=True)\n",
    "    test_data = pd.concat(test_data, ignore_index=True)\n",
    "    rla = topn.RecListAnalysis()\n",
    "    rla.add_metric(topn.ndcg)\n",
    "    results = rla.compute(all_recs, test_data)\n",
    "    ndcg = float(results.groupby('Algorithm').ndcg.mean())\n",
    "    return ndcg"
   ]
  },
  {
   "cell_type": "code",
   "execution_count": 28,
   "metadata": {},
   "outputs": [
    {
     "name": "stderr",
     "output_type": "stream",
     "text": [
      "INFO:lenskit.crossfold:partitioning 100000 rows for 943 users into 1 partitions\n",
      "INFO:lenskit.algorithms.item_knn:[ 14ms] made sparse matrix for 1659 items (80000 ratings from 943 users)\n",
      "INFO:lenskit.algorithms.item_knn:[ 25ms] computed means for 1659 items\n",
      "INFO:lenskit.algorithms.item_knn:[ 40ms] normalized rating matrix columns\n",
      "INFO:lenskit.algorithms.item_knn:[ 42ms] computing similarity matrix\n",
      "INFO:lenskit.algorithms.item_knn:[ 45ms] multiplying matrix with MKL\n",
      "INFO:lenskit.algorithms.item_knn:[ 99ms] truncating 779903 neighbors to 1016524 (of 1016524 possible)\n",
      "INFO:lenskit.algorithms.item_knn:[ 297ms] sorting neighborhoods\n",
      "INFO:lenskit.algorithms.item_knn:[ 370ms] got neighborhoods for 1477 of 1659 items\n",
      "INFO:lenskit.algorithms.item_knn:[ 373ms] computed 1016524 neighbor pairs\n",
      "INFO:lenskit.batch._recommend:parallel backend SequentialBackend, effective njobs 1\n",
      "INFO:lenskit.batch._recommend:recommending for 943 users (n_jobs=None)\n",
      "INFO:lenskit.batch._recommend:recommended for 943 users in 12.88s\n",
      "INFO:lenskit.topn:analyzing 94300 recommendations (20000 truth rows)\n",
      "INFO:lenskit.topn:using group columns ['user', 'Algorithm']\n",
      "INFO:lenskit.topn:ungrouped columns: ['item', 'score', 'rank']\n",
      "INFO:lenskit.topn:using truth ID columns ['user', 'item']\n",
      "INFO:lenskit.topn:computing analysis for 943 lists\n",
      "INFO:lenskit.topn:analyzed 943 lists in 10.27s\n"
     ]
    },
    {
     "data": {
      "text/plain": [
       "0.08999937258936189"
      ]
     },
     "execution_count": 28,
     "metadata": {},
     "output_type": "execute_result"
    }
   ],
   "source": [
    "model_trainer(5)"
   ]
  },
  {
   "cell_type": "markdown",
   "metadata": {},
   "source": [
    "# Define parameters"
   ]
  },
  {
   "cell_type": "code",
   "execution_count": 23,
   "metadata": {},
   "outputs": [],
   "source": [
    "parameters = [sherpa.Discrete('neighbours', [1,30])]\n",
    "alg = bayesian_optimization.GPyOpt(model_type='GP', num_initial_data_points='infer',max_num_trials=5)"
   ]
  },
  {
   "cell_type": "code",
   "execution_count": 24,
   "metadata": {},
   "outputs": [],
   "source": [
    "study = sherpa.Study(parameters=parameters,\n",
    "                     algorithm=alg,\n",
    "                     lower_is_better=False,\n",
    "                     disable_dashboard=True)"
   ]
  },
  {
   "cell_type": "code",
   "execution_count": 37,
   "metadata": {
    "scrolled": false
   },
   "outputs": [
    {
     "name": "stdout",
     "output_type": "stream",
     "text": [
      "Trial 3:\t{'neighbours': 16}\n"
     ]
    },
    {
     "name": "stderr",
     "output_type": "stream",
     "text": [
      "INFO:lenskit.crossfold:partitioning 100000 rows for 943 users into 1 partitions\n",
      "INFO:lenskit.algorithms.item_knn:[ 8ms] made sparse matrix for 1643 items (80000 ratings from 943 users)\n",
      "INFO:lenskit.algorithms.item_knn:[ 14ms] computed means for 1643 items\n",
      "INFO:lenskit.algorithms.item_knn:[ 94ms] normalized rating matrix columns\n",
      "INFO:lenskit.algorithms.item_knn:[ 97ms] computing similarity matrix\n",
      "INFO:lenskit.algorithms.item_knn:[ 98ms] multiplying matrix with MKL\n",
      "INFO:lenskit.algorithms.item_knn:[ 155ms] truncating 780501 neighbors to 1016896 (of 1016896 possible)\n",
      "INFO:lenskit.algorithms.item_knn:[ 262ms] sorting neighborhoods\n",
      "INFO:lenskit.algorithms.item_knn:[ 374ms] got neighborhoods for 1475 of 1643 items\n",
      "INFO:lenskit.algorithms.item_knn:[ 376ms] computed 1016896 neighbor pairs\n",
      "INFO:lenskit.batch._recommend:parallel backend SequentialBackend, effective njobs 1\n",
      "INFO:lenskit.batch._recommend:recommending for 943 users (n_jobs=None)\n",
      "INFO:lenskit.batch._recommend:recommended for 943 users in 6.31s\n",
      "INFO:lenskit.topn:analyzing 94300 recommendations (20000 truth rows)\n",
      "INFO:lenskit.topn:using group columns ['user', 'Algorithm']\n",
      "INFO:lenskit.topn:ungrouped columns: ['item', 'score', 'rank']\n",
      "INFO:lenskit.topn:using truth ID columns ['user', 'item']\n",
      "INFO:lenskit.topn:computing analysis for 943 lists\n",
      "INFO:lenskit.topn:analyzed 943 lists in 4.79s\n"
     ]
    },
    {
     "name": "stdout",
     "output_type": "stream",
     "text": [
      "Trial 4:\t{'neighbours': 16}\n"
     ]
    },
    {
     "name": "stderr",
     "output_type": "stream",
     "text": [
      "INFO:lenskit.crossfold:partitioning 100000 rows for 943 users into 1 partitions\n",
      "INFO:lenskit.algorithms.item_knn:[ 5ms] made sparse matrix for 1646 items (80000 ratings from 943 users)\n",
      "INFO:lenskit.algorithms.item_knn:[ 11ms] computed means for 1646 items\n",
      "INFO:lenskit.algorithms.item_knn:[ 17ms] normalized rating matrix columns\n",
      "INFO:lenskit.algorithms.item_knn:[ 18ms] computing similarity matrix\n",
      "INFO:lenskit.algorithms.item_knn:[ 18ms] multiplying matrix with MKL\n",
      "INFO:lenskit.algorithms.item_knn:[ 36ms] truncating 776733 neighbors to 1010482 (of 1010482 possible)\n",
      "INFO:lenskit.algorithms.item_knn:[ 117ms] sorting neighborhoods\n",
      "INFO:lenskit.algorithms.item_knn:[ 147ms] got neighborhoods for 1470 of 1646 items\n",
      "INFO:lenskit.algorithms.item_knn:[ 148ms] computed 1010482 neighbor pairs\n",
      "INFO:lenskit.batch._recommend:parallel backend SequentialBackend, effective njobs 1\n",
      "INFO:lenskit.batch._recommend:recommending for 943 users (n_jobs=None)\n",
      "INFO:lenskit.batch._recommend:recommended for 943 users in 6.13s\n",
      "INFO:lenskit.topn:analyzing 94300 recommendations (20000 truth rows)\n",
      "INFO:lenskit.topn:using group columns ['user', 'Algorithm']\n",
      "INFO:lenskit.topn:ungrouped columns: ['item', 'score', 'rank']\n",
      "INFO:lenskit.topn:using truth ID columns ['user', 'item']\n",
      "INFO:lenskit.topn:computing analysis for 943 lists\n",
      "INFO:lenskit.topn:analyzed 943 lists in 4.04s\n"
     ]
    },
    {
     "name": "stdout",
     "output_type": "stream",
     "text": [
      "Trial 5:\t{'neighbours': 20}\n"
     ]
    },
    {
     "name": "stderr",
     "output_type": "stream",
     "text": [
      "INFO:lenskit.crossfold:partitioning 100000 rows for 943 users into 1 partitions\n",
      "INFO:lenskit.algorithms.item_knn:[ 6ms] made sparse matrix for 1651 items (80000 ratings from 943 users)\n",
      "INFO:lenskit.algorithms.item_knn:[ 11ms] computed means for 1651 items\n",
      "INFO:lenskit.algorithms.item_knn:[ 17ms] normalized rating matrix columns\n",
      "INFO:lenskit.algorithms.item_knn:[ 18ms] computing similarity matrix\n",
      "INFO:lenskit.algorithms.item_knn:[ 19ms] multiplying matrix with MKL\n",
      "INFO:lenskit.algorithms.item_knn:[ 36ms] truncating 778826 neighbors to 1015032 (of 1015032 possible)\n",
      "INFO:lenskit.algorithms.item_knn:[ 123ms] sorting neighborhoods\n",
      "INFO:lenskit.algorithms.item_knn:[ 150ms] got neighborhoods for 1474 of 1651 items\n",
      "INFO:lenskit.algorithms.item_knn:[ 151ms] computed 1015032 neighbor pairs\n",
      "INFO:lenskit.batch._recommend:parallel backend SequentialBackend, effective njobs 1\n",
      "INFO:lenskit.batch._recommend:recommending for 943 users (n_jobs=None)\n",
      "INFO:lenskit.batch._recommend:recommended for 943 users in 6.44s\n",
      "INFO:lenskit.topn:analyzing 94300 recommendations (20000 truth rows)\n",
      "INFO:lenskit.topn:using group columns ['user', 'Algorithm']\n",
      "INFO:lenskit.topn:ungrouped columns: ['item', 'score', 'rank']\n",
      "INFO:lenskit.topn:using truth ID columns ['user', 'item']\n",
      "INFO:lenskit.topn:computing analysis for 943 lists\n",
      "INFO:lenskit.topn:analyzed 943 lists in 4.35s\n"
     ]
    }
   ],
   "source": [
    "for trial in study:\n",
    "    print(\"Trial {}:\\t{}\".format(trial.id, trial.parameters))\n",
    "    model = model_trainer(trial.parameters['neighbours'])\n",
    "    num_iterations = 5\n",
    "    \n",
    "    for i in range(num_iterations):\n",
    "        study.add_observation(trial=trial,\n",
    "                              iteration=i+1,\n",
    "                              objective=model)\n",
    "        time.sleep(0.1)\n",
    "    #study.finalize(trial=trial)"
   ]
  },
  {
   "cell_type": "code",
   "execution_count": null,
   "metadata": {},
   "outputs": [],
   "source": [
    "print(study.get_best_result())"
   ]
  },
  {
   "cell_type": "code",
   "execution_count": null,
   "metadata": {},
   "outputs": [],
   "source": [
    "for trial in study:\n",
    "    print(\"Trial {}:\\t{}\".format(trial.id, trial.parameters))\n",
    "    model = model_trainer(trial.parameters['neighbours'])\n",
    "    study.add_observation(trial=trial,\n",
    "                          iteration=i+1,\n",
    "                          objective=model)\n",
    "    time.sleep(0.1)\n",
    "    study.finalize(trial=trial)"
   ]
  },
  {
   "cell_type": "code",
   "execution_count": null,
   "metadata": {},
   "outputs": [],
   "source": [
    "trial = study.get_suggestion()"
   ]
  },
  {
   "cell_type": "code",
   "execution_count": null,
   "metadata": {},
   "outputs": [],
   "source": [
    "study.get_best_result()"
   ]
  }
 ],
 "metadata": {
  "kernelspec": {
   "display_name": "Python 3",
   "language": "python",
   "name": "python3"
  },
  "language_info": {
   "codemirror_mode": {
    "name": "ipython",
    "version": 3
   },
   "file_extension": ".py",
   "mimetype": "text/x-python",
   "name": "python",
   "nbconvert_exporter": "python",
   "pygments_lexer": "ipython3",
   "version": "3.7.3"
  }
 },
 "nbformat": 4,
 "nbformat_minor": 2
}
