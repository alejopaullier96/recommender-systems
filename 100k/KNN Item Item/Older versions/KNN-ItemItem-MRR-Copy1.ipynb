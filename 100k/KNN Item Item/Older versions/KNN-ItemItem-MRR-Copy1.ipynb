{
 "cells": [
  {
   "cell_type": "markdown",
   "metadata": {},
   "source": [
    "<img src=\"https://www3.um.edu.uy/logoum.jpg\" width=300>\n",
    "<h1 align=\"center\">Thesis - KNN Item Item MRR</h1> \n",
    "<h2 align=\"center\">Alejo Paullier</h2> "
   ]
  },
  {
   "cell_type": "markdown",
   "metadata": {},
   "source": [
    "https://lkpy.lenskit.org/en/stable/knn.html"
   ]
  },
  {
   "cell_type": "code",
   "execution_count": 3,
   "metadata": {},
   "outputs": [],
   "source": [
    "from lenskit import batch, topn, util\n",
    "from lenskit import crossfold as xf\n",
    "from lenskit.algorithms import Recommender, item_knn as knn\n",
    "from lenskit import topn\n",
    "import pandas as pd\n",
    "import numpy as np\n",
    "\n",
    "ratings = pd.read_csv('C:\\\\Users\\\\Alejo\\\\Tesis\\\\Demo\\\\ml-100k\\\\u.data', sep='\\t',\n",
    "                      names=['user', 'item', 'rating', 'timestamp'])\n",
    "\n",
    "\n",
    "def eval(aname, algo, train, test):\n",
    "    fittable = util.clone(algo) # Object cloning means to create an exact copy of the original object.\n",
    "    fittable = Recommender.adapt(fittable) \n",
    "    fittable.fit(train) # Entrenamos el algoritmo con el training dataset\n",
    "    users = test.user.unique() # Devuelve un array con los users unicos en el testing dataset\n",
    "    # now we run the recommender\n",
    "    recs = batch.recommend(fittable, users, 100)\n",
    "    # add the algorithm name for analyzability\n",
    "    recs['Algorithm'] = aname\n",
    "    return recs"
   ]
  },
  {
   "cell_type": "code",
   "execution_count": 12,
   "metadata": {},
   "outputs": [],
   "source": [
    "def model_trainer(neighbours):\n",
    "    neighbours=int(neighbours)\n",
    "    print(neighbours)\n",
    "    all_recs = []\n",
    "    test_data = []\n",
    "    algo_ii = knn.ItemItem(neighbours,aggregate='weighted-average')\n",
    "    for train, test in xf.partition_users(ratings[['user', 'item', 'rating']], 5, xf.SampleFrac(0.2)):\n",
    "        test_data.append(test)\n",
    "        all_recs.append(eval('ItemItem', algo_ii, train, test))\n",
    "    all_recs = pd.concat(all_recs, ignore_index=True)\n",
    "    test_data = pd.concat(test_data, ignore_index=True)\n",
    "    rla = topn.RecListAnalysis()\n",
    "    rla.add_metric(topn.recip_rank)\n",
    "    results = rla.compute(all_recs, test_data)\n",
    "    return -results[\"recip_rank\"].mean()"
   ]
  },
  {
   "cell_type": "code",
   "execution_count": 13,
   "metadata": {
    "scrolled": true
   },
   "outputs": [
    {
     "name": "stdout",
     "output_type": "stream",
     "text": [
      "8                                                                                                                      \n",
      "40                                                                                                                     \n",
      "49                                                                                                                     \n",
      "49                                                                                                                     \n",
      "46                                                                                                                     \n",
      "47                                                                                                                     \n",
      "2                                                                                                                      \n",
      "33                                                                                                                     \n",
      "18                                                                                                                     \n",
      "8                                                                                                                      \n",
      "100%|█████████████████████████████████████████████████| 10/10 [01:34<00:00,  9.04s/it, best loss: -0.12289842438871736]\n",
      "27                                                                                                                     \n",
      "9                                                                                                                      \n",
      "21                                                                                                                     \n",
      "23                                                                                                                     \n",
      "34                                                                                                                     \n",
      "19                                                                                                                     \n",
      "4                                                                                                                      \n",
      "30                                                                                                                     \n",
      "21                                                                                                                     \n",
      "36                                                                                                                     \n",
      "100%|██████████████████████████████████████████████████| 10/10 [01:35<00:00,  9.90s/it, best loss: -0.1196460987909784]\n",
      "22                                                                                                                     \n",
      "22                                                                                                                     \n",
      "32                                                                                                                     \n",
      "13                                                                                                                     \n",
      "35                                                                                                                     \n",
      "12                                                                                                                     \n",
      "20                                                                                                                     \n",
      "41                                                                                                                     \n",
      "39                                                                                                                     \n",
      "31                                                                                                                     \n",
      "100%|█████████████████████████████████████████████████| 10/10 [01:36<00:00,  9.81s/it, best loss: -0.12322030997883539]\n",
      "27                                                                                                                     \n",
      "41                                                                                                                     \n",
      "29                                                                                                                     \n",
      "12                                                                                                                     \n",
      "12                                                                                                                     \n",
      "5                                                                                                                      \n",
      "31                                                                                                                     \n",
      "21                                                                                                                     \n",
      "44                                                                                                                     \n",
      "18                                                                                                                     \n",
      "100%|█████████████████████████████████████████████████| 10/10 [01:33<00:00,  9.39s/it, best loss: -0.12071170013751349]\n",
      "37                                                                                                                     \n",
      "2                                                                                                                      \n",
      "30                                                                                                                     \n",
      "44                                                                                                                     \n",
      "33                                                                                                                     \n",
      "23                                                                                                                     \n",
      "38                                                                                                                     \n",
      "7                                                                                                                      \n",
      "18                                                                                                                     \n",
      "14                                                                                                                     \n",
      "100%|█████████████████████████████████████████████████| 10/10 [01:34<00:00,  9.27s/it, best loss: -0.11792344668643438]\n",
      "40                                                                                                                     \n",
      "35                                                                                                                     \n",
      "46                                                                                                                     \n",
      "21                                                                                                                     \n",
      "24                                                                                                                     \n",
      "15                                                                                                                     \n",
      "35                                                                                                                     \n",
      "31                                                                                                                     \n",
      "26                                                                                                                     \n",
      "49                                                                                                                     \n",
      "100%|█████████████████████████████████████████████████| 10/10 [01:39<00:00,  9.89s/it, best loss: -0.11326044370964773]\n",
      "24                                                                                                                     \n",
      "14                                                                                                                     \n"
     ]
    },
    {
     "name": "stdout",
     "output_type": "stream",
     "text": [
      "8                                                                                                                      \n",
      "40                                                                                                                     \n",
      "35                                                                                                                     \n",
      "10                                                                                                                     \n",
      "17                                                                                                                     \n",
      "31                                                                                                                     \n",
      "39                                                                                                                     \n",
      "2                                                                                                                      \n",
      "100%|█████████████████████████████████████████████████| 10/10 [01:32<00:00,  9.06s/it, best loss: -0.11691948491900184]\n",
      "20                                                                                                                     \n",
      "33                                                                                                                     \n",
      "2                                                                                                                      \n",
      "36                                                                                                                     \n",
      "5                                                                                                                      \n",
      "9                                                                                                                      \n",
      "10                                                                                                                     \n",
      "10                                                                                                                     \n",
      "41                                                                                                                     \n",
      "4                                                                                                                      \n",
      "100%|█████████████████████████████████████████████████| 10/10 [01:29<00:00,  8.84s/it, best loss: -0.11929380395051468]\n",
      "20                                                                                                                     \n",
      "29                                                                                                                     \n",
      "7                                                                                                                      \n",
      "34                                                                                                                     \n",
      "3                                                                                                                      \n",
      "43                                                                                                                     \n",
      "46                                                                                                                     \n",
      "11                                                                                                                     \n",
      "33                                                                                                                     \n",
      "42                                                                                                                     \n",
      "100%|█████████████████████████████████████████████████| 10/10 [01:36<00:00, 10.10s/it, best loss: -0.11919123582415096]\n",
      "39                                                                                                                     \n",
      "38                                                                                                                     \n",
      "4                                                                                                                      \n",
      "41                                                                                                                     \n",
      "17                                                                                                                     \n",
      "21                                                                                                                     \n",
      "33                                                                                                                     \n",
      "27                                                                                                                     \n",
      "28                                                                                                                     \n",
      "37                                                                                                                     \n",
      "100%|█████████████████████████████████████████████████| 10/10 [01:37<00:00,  9.79s/it, best loss: -0.10551181571507753]\n"
     ]
    }
   ],
   "source": [
    "from hyperopt import fmin, tpe, hp, STATUS_OK\n",
    "\n",
    "def objective(x):\n",
    "    return {'loss': model_trainer(x), 'status': STATUS_OK }\n",
    "\n",
    "average=[[] for _ in range(10)]\n",
    "\n",
    "for y in range(len(average)):\n",
    "    best = fmin(objective,\n",
    "        space=hp.uniform('x', 1, 50),\n",
    "        algo=tpe.suggest,\n",
    "        max_evals=10\n",
    "               )\n",
    "    average[y].append(best)"
   ]
  },
  {
   "cell_type": "code",
   "execution_count": 21,
   "metadata": {
    "scrolled": false
   },
   "outputs": [],
   "source": [
    "average = [[{'x': 8.934221300944941}],\n",
    " [{'x': 9.37255731841272}],\n",
    " [{'x': 13.960251652364823}],\n",
    " [{'x': 12.676041196908512}],\n",
    " [{'x': 7.221128168169952}],\n",
    " [{'x': 15.574599693512226}],\n",
    " [{'x': 10.013577817451978}],\n",
    " [{'x': 10.327122032772271}],\n",
    " [{'x': 11.863009967836662}],\n",
    " [{'x': 21.257435795649442}]]"
   ]
  },
  {
   "cell_type": "code",
   "execution_count": 22,
   "metadata": {},
   "outputs": [],
   "source": [
    "flat_list = [item for sublist in average for item in sublist]"
   ]
  },
  {
   "cell_type": "code",
   "execution_count": 23,
   "metadata": {},
   "outputs": [],
   "source": [
    "mrr = [0.12289842438871736,0.1196460987909784,0.12322030997883539,0.12071170013751349,0.11792344668643438,0.11326044370964773,\n",
    "       0.11691948491900184,0.11929380395051468,0.11919123582415096,0.10551181571507753]\n",
    "mrr = pd.DataFrame(mrr)"
   ]
  },
  {
   "cell_type": "code",
   "execution_count": 24,
   "metadata": {},
   "outputs": [
    {
     "data": {
      "text/html": [
       "<div>\n",
       "<style scoped>\n",
       "    .dataframe tbody tr th:only-of-type {\n",
       "        vertical-align: middle;\n",
       "    }\n",
       "\n",
       "    .dataframe tbody tr th {\n",
       "        vertical-align: top;\n",
       "    }\n",
       "\n",
       "    .dataframe thead th {\n",
       "        text-align: right;\n",
       "    }\n",
       "</style>\n",
       "<table border=\"1\" class=\"dataframe\">\n",
       "  <thead>\n",
       "    <tr style=\"text-align: right;\">\n",
       "      <th></th>\n",
       "      <th>Neighbours</th>\n",
       "      <th>MRR</th>\n",
       "    </tr>\n",
       "  </thead>\n",
       "  <tbody>\n",
       "    <tr>\n",
       "      <th>0</th>\n",
       "      <td>8.934221</td>\n",
       "      <td>0.122898</td>\n",
       "    </tr>\n",
       "    <tr>\n",
       "      <th>1</th>\n",
       "      <td>9.372557</td>\n",
       "      <td>0.119646</td>\n",
       "    </tr>\n",
       "    <tr>\n",
       "      <th>2</th>\n",
       "      <td>13.960252</td>\n",
       "      <td>0.123220</td>\n",
       "    </tr>\n",
       "    <tr>\n",
       "      <th>3</th>\n",
       "      <td>12.676041</td>\n",
       "      <td>0.120712</td>\n",
       "    </tr>\n",
       "    <tr>\n",
       "      <th>4</th>\n",
       "      <td>7.221128</td>\n",
       "      <td>0.117923</td>\n",
       "    </tr>\n",
       "    <tr>\n",
       "      <th>5</th>\n",
       "      <td>15.574600</td>\n",
       "      <td>0.113260</td>\n",
       "    </tr>\n",
       "    <tr>\n",
       "      <th>6</th>\n",
       "      <td>10.013578</td>\n",
       "      <td>0.116919</td>\n",
       "    </tr>\n",
       "    <tr>\n",
       "      <th>7</th>\n",
       "      <td>10.327122</td>\n",
       "      <td>0.119294</td>\n",
       "    </tr>\n",
       "    <tr>\n",
       "      <th>8</th>\n",
       "      <td>11.863010</td>\n",
       "      <td>0.119191</td>\n",
       "    </tr>\n",
       "    <tr>\n",
       "      <th>9</th>\n",
       "      <td>21.257436</td>\n",
       "      <td>0.105512</td>\n",
       "    </tr>\n",
       "  </tbody>\n",
       "</table>\n",
       "</div>"
      ],
      "text/plain": [
       "   Neighbours       MRR\n",
       "0    8.934221  0.122898\n",
       "1    9.372557  0.119646\n",
       "2   13.960252  0.123220\n",
       "3   12.676041  0.120712\n",
       "4    7.221128  0.117923\n",
       "5   15.574600  0.113260\n",
       "6   10.013578  0.116919\n",
       "7   10.327122  0.119294\n",
       "8   11.863010  0.119191\n",
       "9   21.257436  0.105512"
      ]
     },
     "execution_count": 24,
     "metadata": {},
     "output_type": "execute_result"
    }
   ],
   "source": [
    "average = pd.DataFrame.from_dict(flat_list)\n",
    "metric = pd.concat([average,mrr],axis=1)\n",
    "metric.columns = ['Neighbours','MRR']\n",
    "metric"
   ]
  },
  {
   "cell_type": "code",
   "execution_count": 27,
   "metadata": {},
   "outputs": [
    {
     "data": {
      "text/plain": [
       "Neighbours    12.119994\n",
       "MRR            0.117858\n",
       "dtype: float64"
      ]
     },
     "execution_count": 27,
     "metadata": {},
     "output_type": "execute_result"
    }
   ],
   "source": [
    "metric.mean()"
   ]
  }
 ],
 "metadata": {
  "kernelspec": {
   "display_name": "Python 3",
   "language": "python",
   "name": "python3"
  },
  "language_info": {
   "codemirror_mode": {
    "name": "ipython",
    "version": 3
   },
   "file_extension": ".py",
   "mimetype": "text/x-python",
   "name": "python",
   "nbconvert_exporter": "python",
   "pygments_lexer": "ipython3",
   "version": "3.7.3"
  }
 },
 "nbformat": 4,
 "nbformat_minor": 2
}
