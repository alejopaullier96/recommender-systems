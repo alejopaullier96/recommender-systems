{
 "cells": [
  {
   "cell_type": "markdown",
   "metadata": {},
   "source": [
    "<img src=\"https://www3.um.edu.uy/logoum.jpg\" width=300>\n",
    "<h1 align=\"center\">Thesis - KNN Item Item nDCG </h1> \n",
    "<h2 align=\"center\">Alejo Paullier</h2> "
   ]
  },
  {
   "cell_type": "markdown",
   "metadata": {},
   "source": [
    "https://lkpy.lenskit.org/en/stable/knn.html"
   ]
  },
  {
   "cell_type": "code",
   "execution_count": 5,
   "metadata": {},
   "outputs": [],
   "source": [
    "from lenskit import batch, topn, util\n",
    "from lenskit import crossfold as xf\n",
    "from lenskit.algorithms import Recommender, item_knn as knn\n",
    "from lenskit import topn\n",
    "import pandas as pd\n",
    "import numpy as np\n",
    "\n",
    "ratings = pd.read_csv('C:\\\\Users\\\\Alejo\\\\Tesis\\\\Demo\\\\ml-100k\\\\u.data', sep='\\t',\n",
    "                      names=['user', 'item', 'rating', 'timestamp'])\n",
    "\n",
    "\n",
    "def eval(aname, algo, train, test):\n",
    "    fittable = util.clone(algo) # Object cloning means to create an exact copy of the original object.\n",
    "    fittable = Recommender.adapt(fittable) \n",
    "    fittable.fit(train) # Entrenamos el algoritmo con el training dataset\n",
    "    users = test.user.unique() # Devuelve un array con los users unicos en el testing dataset\n",
    "    # now we run the recommender\n",
    "    recs = batch.recommend(fittable, users, 100)\n",
    "    # add the algorithm name for analyzability\n",
    "    recs['Algorithm'] = aname\n",
    "    return recs"
   ]
  },
  {
   "cell_type": "code",
   "execution_count": 11,
   "metadata": {},
   "outputs": [],
   "source": [
    "def model_trainer(neighbours):\n",
    "    neighbours=int(neighbours)\n",
    "    print(neighbours)\n",
    "    all_recs = []\n",
    "    test_data = []\n",
    "    algo_ii = knn.ItemItem(neighbours,aggregate='weighted-average')\n",
    "    for train, test in xf.partition_users(ratings[['user', 'item', 'rating']], 5, xf.SampleFrac(0.2)):\n",
    "        test_data.append(test)\n",
    "        all_recs.append(eval('ItemItem', algo_ii, train, test))\n",
    "    all_recs = pd.concat(all_recs, ignore_index=True)\n",
    "    test_data = pd.concat(test_data, ignore_index=True)\n",
    "    rla = topn.RecListAnalysis()\n",
    "    rla.add_metric(topn.ndcg)\n",
    "    results = rla.compute(all_recs, test_data)\n",
    "    return -results.groupby('Algorithm').ndcg.mean()\n"
   ]
  },
  {
   "cell_type": "code",
   "execution_count": 14,
   "metadata": {
    "scrolled": true
   },
   "outputs": [
    {
     "name": "stdout",
     "output_type": "stream",
     "text": [
      "9                                                                                                                      \n",
      "12                                                                                                                     \n",
      "41                                                                                                                     \n",
      "46                                                                                                                     \n",
      "6                                                                                                                      \n",
      "47                                                                                                                     \n",
      "36                                                                                                                     \n",
      "11                                                                                                                     \n",
      "9                                                                                                                      \n",
      "38                                                                                                                     \n",
      "100%|█████████████████████████████████████████████████| 10/10 [01:59<00:00, 11.87s/it, best loss: -0.10078672601755276]\n",
      "29                                                                                                                     \n",
      "23                                                                                                                     \n",
      "22                                                                                                                     \n",
      "14                                                                                                                     \n",
      "34                                                                                                                     \n",
      "21                                                                                                                     \n",
      "48                                                                                                                     \n",
      "40                                                                                                                     \n",
      "27                                                                                                                     \n",
      "11                                                                                                                     \n",
      "100%|█████████████████████████████████████████████████| 10/10 [02:04<00:00, 12.19s/it, best loss: -0.10307457304854108]\n",
      "47                                                                                                                     \n",
      "46                                                                                                                     \n",
      "38                                                                                                                     \n",
      "27                                                                                                                     \n",
      "13                                                                                                                     \n",
      "19                                                                                                                     \n",
      "45                                                                                                                     \n",
      "36                                                                                                                     \n",
      "39                                                                                                                     \n",
      "39                                                                                                                     \n",
      "100%|██████████████████████████████████████████████████| 10/10 [02:06<00:00, 12.80s/it, best loss: -0.1027919187220432]\n",
      "2                                                                                                                      \n",
      "20                                                                                                                     \n",
      "35                                                                                                                     \n",
      "38                                                                                                                     \n",
      "29                                                                                                                     \n",
      "3                                                                                                                      \n",
      "23                                                                                                                     \n",
      "40                                                                                                                     \n",
      "31                                                                                                                     \n",
      "16                                                                                                                     \n",
      "100%|██████████████████████████████████████████████████| 10/10 [02:06<00:00, 12.66s/it, best loss: -0.1025849982138326]\n",
      "32                                                                                                                     \n",
      "33                                                                                                                     \n",
      "17                                                                                                                     \n",
      "36                                                                                                                     \n",
      "37                                                                                                                     \n",
      "45                                                                                                                     \n",
      "1                                                                                                                      \n",
      "1                                                                                                                      \n",
      "6                                                                                                                      \n",
      "17                                                                                                                     \n",
      "100%|█████████████████████████████████████████████████| 10/10 [02:05<00:00, 11.99s/it, best loss: -0.10031851123659034]\n",
      "41                                                                                                                     \n",
      "32                                                                                                                     \n",
      "10                                                                                                                     \n",
      "35                                                                                                                     \n",
      "17                                                                                                                     \n",
      "41                                                                                                                     \n",
      "10                                                                                                                     \n",
      "32                                                                                                                     \n",
      "13                                                                                                                     \n",
      "3                                                                                                                      \n",
      "100%|█████████████████████████████████████████████████| 10/10 [02:08<00:00, 12.57s/it, best loss: -0.10245817130009784]\n",
      "20                                                                                                                     \n",
      "5                                                                                                                      \n",
      "30                                                                                                                     \n",
      "45                                                                                                                     \n",
      "39                                                                                                                     \n",
      "41                                                                                                                     \n",
      "40                                                                                                                     \n",
      "21                                                                                                                     \n",
      "1                                                                                                                      \n",
      "28                                                                                                                     \n",
      "100%|██████████████████████████████████████████████████| 10/10 [02:04<00:00, 12.25s/it, best loss: -0.1020391138278402]\n",
      "6                                                                                                                      \n",
      "10                                                                                                                     \n",
      "37                                                                                                                     \n",
      "5                                                                                                                      \n",
      "49                                                                                                                     \n",
      "14                                                                                                                     \n",
      "32                                                                                                                     \n",
      "32                                                                                                                     \n",
      "9                                                                                                                      \n",
      "22                                                                                                                     \n",
      "100%|█████████████████████████████████████████████████| 10/10 [01:58<00:00, 11.89s/it, best loss: -0.10304630476630926]\n",
      "7                                                                                                                      \n",
      "6                                                                                                                      \n",
      "41                                                                                                                     \n",
      "41                                                                                                                     \n",
      "11                                                                                                                     \n",
      "4                                                                                                                      \n",
      "12                                                                                                                     \n",
      "47                                                                                                                     \n",
      "35                                                                                                                     \n",
      "13                                                                                                                     \n",
      "100%|█████████████████████████████████████████████████| 10/10 [01:58<00:00, 11.86s/it, best loss: -0.10159226363831887]\n",
      "37                                                                                                                     \n",
      "11                                                                                                                     \n",
      "48                                                                                                                     \n",
      "6                                                                                                                      \n",
      "39                                                                                                                     \n",
      "38                                                                                                                     \n",
      "48                                                                                                                     \n",
      "6                                                                                                                      \n",
      "42                                                                                                                     \n",
      "22                                                                                                                     \n",
      "100%|█████████████████████████████████████████████████| 10/10 [02:06<00:00, 12.62s/it, best loss: -0.10068421182413598]\n"
     ]
    }
   ],
   "source": [
    "from hyperopt import fmin, tpe, hp, STATUS_OK\n",
    "\n",
    "def objective(x):\n",
    "    return {'loss': model_trainer(x), 'status': STATUS_OK }\n",
    "\n",
    "average=[[] for _ in range(10)]\n",
    "\n",
    "for y in range(len(average)):\n",
    "    best = fmin(objective,\n",
    "        space=hp.uniform('x', 1, 50),\n",
    "        algo=tpe.suggest,\n",
    "        max_evals=10\n",
    "               )\n",
    "    average[y].append(best)"
   ]
  },
  {
   "cell_type": "code",
   "execution_count": 34,
   "metadata": {
    "scrolled": false
   },
   "outputs": [],
   "source": [
    "average =[[{'x': 46.21239562832436}],\n",
    " [{'x': 11.18767077609165}],\n",
    " [{'x': 19.472446054398755}],\n",
    " [{'x': 29.40258057625774}],\n",
    " [{'x': 17.557133113273665}],\n",
    " [{'x': 10.565668614323931}],\n",
    " [{'x': 20.53518511564948}],\n",
    " [{'x': 10.658761442128954}],\n",
    " [{'x': 11.237982203247403}],\n",
    " [{'x': 6.7039056407556625}]]"
   ]
  },
  {
   "cell_type": "code",
   "execution_count": null,
   "metadata": {},
   "outputs": [],
   "source": [
    "flat_list = [item for sublist in average for item in sublist]"
   ]
  },
  {
   "cell_type": "code",
   "execution_count": 29,
   "metadata": {},
   "outputs": [],
   "source": [
    "ndcg = [0.10078672601755276,0.10307457304854108,0.1027919187220432,0.1025849982138326,0.10031851123659034,0.10245817130009784,\n",
    "0.1020391138278402,0.10304630476630926,0.10159226363831887,0.10068421182413598]\n",
    "ndcg = pd.DataFrame(ndcg)"
   ]
  },
  {
   "cell_type": "code",
   "execution_count": 37,
   "metadata": {},
   "outputs": [
    {
     "data": {
      "text/html": [
       "<div>\n",
       "<style scoped>\n",
       "    .dataframe tbody tr th:only-of-type {\n",
       "        vertical-align: middle;\n",
       "    }\n",
       "\n",
       "    .dataframe tbody tr th {\n",
       "        vertical-align: top;\n",
       "    }\n",
       "\n",
       "    .dataframe thead th {\n",
       "        text-align: right;\n",
       "    }\n",
       "</style>\n",
       "<table border=\"1\" class=\"dataframe\">\n",
       "  <thead>\n",
       "    <tr style=\"text-align: right;\">\n",
       "      <th></th>\n",
       "      <th>Neighbours</th>\n",
       "      <th>nDCG</th>\n",
       "    </tr>\n",
       "  </thead>\n",
       "  <tbody>\n",
       "    <tr>\n",
       "      <th>0</th>\n",
       "      <td>46.212396</td>\n",
       "      <td>0.100787</td>\n",
       "    </tr>\n",
       "    <tr>\n",
       "      <th>1</th>\n",
       "      <td>11.187671</td>\n",
       "      <td>0.103075</td>\n",
       "    </tr>\n",
       "    <tr>\n",
       "      <th>2</th>\n",
       "      <td>19.472446</td>\n",
       "      <td>0.102792</td>\n",
       "    </tr>\n",
       "    <tr>\n",
       "      <th>3</th>\n",
       "      <td>29.402581</td>\n",
       "      <td>0.102585</td>\n",
       "    </tr>\n",
       "    <tr>\n",
       "      <th>4</th>\n",
       "      <td>17.557133</td>\n",
       "      <td>0.100319</td>\n",
       "    </tr>\n",
       "    <tr>\n",
       "      <th>5</th>\n",
       "      <td>10.565669</td>\n",
       "      <td>0.102458</td>\n",
       "    </tr>\n",
       "    <tr>\n",
       "      <th>6</th>\n",
       "      <td>20.535185</td>\n",
       "      <td>0.102039</td>\n",
       "    </tr>\n",
       "    <tr>\n",
       "      <th>7</th>\n",
       "      <td>10.658761</td>\n",
       "      <td>0.103046</td>\n",
       "    </tr>\n",
       "    <tr>\n",
       "      <th>8</th>\n",
       "      <td>11.237982</td>\n",
       "      <td>0.101592</td>\n",
       "    </tr>\n",
       "    <tr>\n",
       "      <th>9</th>\n",
       "      <td>6.703906</td>\n",
       "      <td>0.100684</td>\n",
       "    </tr>\n",
       "  </tbody>\n",
       "</table>\n",
       "</div>"
      ],
      "text/plain": [
       "   Neighbours      nDCG\n",
       "0   46.212396  0.100787\n",
       "1   11.187671  0.103075\n",
       "2   19.472446  0.102792\n",
       "3   29.402581  0.102585\n",
       "4   17.557133  0.100319\n",
       "5   10.565669  0.102458\n",
       "6   20.535185  0.102039\n",
       "7   10.658761  0.103046\n",
       "8   11.237982  0.101592\n",
       "9    6.703906  0.100684"
      ]
     },
     "execution_count": 37,
     "metadata": {},
     "output_type": "execute_result"
    }
   ],
   "source": [
    "average = pd.DataFrame.from_dict(flat_list)\n",
    "metric = pd.concat([average,ndcg],axis=1)\n",
    "metric.columns = ['Neighbours','nDCG']\n",
    "metric"
   ]
  },
  {
   "cell_type": "code",
   "execution_count": 39,
   "metadata": {},
   "outputs": [
    {
     "data": {
      "text/plain": [
       "Neighbours    18.353373\n",
       "nDCG           0.101938\n",
       "dtype: float64"
      ]
     },
     "execution_count": 39,
     "metadata": {},
     "output_type": "execute_result"
    }
   ],
   "source": [
    "metric.mean()"
   ]
  }
 ],
 "metadata": {
  "kernelspec": {
   "display_name": "Python 3",
   "language": "python",
   "name": "python3"
  },
  "language_info": {
   "codemirror_mode": {
    "name": "ipython",
    "version": 3
   },
   "file_extension": ".py",
   "mimetype": "text/x-python",
   "name": "python",
   "nbconvert_exporter": "python",
   "pygments_lexer": "ipython3",
   "version": "3.7.3"
  }
 },
 "nbformat": 4,
 "nbformat_minor": 2
}
