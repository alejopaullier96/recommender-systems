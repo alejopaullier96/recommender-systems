{
 "cells": [
  {
   "cell_type": "markdown",
   "metadata": {},
   "source": [
    "<img src=\"https://www3.um.edu.uy/logoum.jpg\" width=300>\n",
    "<h1 align=\"center\">Thesis - KNN Item Item RMSE</h1> \n",
    "<h2 align=\"center\">Alejo Paullier</h2> "
   ]
  },
  {
   "cell_type": "markdown",
   "metadata": {},
   "source": [
    "https://lkpy.lenskit.org/en/stable/knn.html"
   ]
  },
  {
   "cell_type": "code",
   "execution_count": 1,
   "metadata": {},
   "outputs": [],
   "source": [
    "from lenskit import batch, topn, util\n",
    "from lenskit import crossfold as xf\n",
    "from lenskit.algorithms import Recommender, item_knn as knn\n",
    "from lenskit.metrics.predict import rmse\n",
    "import pandas as pd\n",
    "import numpy as np\n",
    "\n",
    "ratings = pd.read_csv('C:\\\\Users\\\\Alejo\\\\Tesis\\\\Demo\\\\ml-100k\\\\u.data', sep='\\t',\n",
    "                      names=['user', 'item', 'rating', 'timestamp'])\n",
    "\n",
    "\n",
    "def eval(aname, algo, train, test):\n",
    "    fittable = util.clone(algo) # Object cloning means to create an exact copy of the original object.\n",
    "    fittable = Recommender.adapt(fittable) \n",
    "    fittable.fit(train) # train the algorithm with the training dataset\n",
    "    # Now we run the recommender:\n",
    "    preds = batch.predict(fittable, test)\n",
    "    # add the algorithm name for analyzability\n",
    "    return preds"
   ]
  },
  {
   "cell_type": "code",
   "execution_count": 2,
   "metadata": {},
   "outputs": [],
   "source": [
    "def model_trainer(neighbours):\n",
    "    neighbours=int(neighbours)\n",
    "    print(neighbours)\n",
    "    all_recs = []\n",
    "    test_data = []\n",
    "    algo_ii = knn.ItemItem(neighbours,aggregate='weighted-average') # define algorithm\n",
    "    \n",
    "    for train, test in xf.partition_users(ratings[['user', 'item', 'rating']], 5, xf.SampleFrac(0.2)):\n",
    "        test_data.append(test) # save testing data\n",
    "        all_recs.append(eval('ItemItem', algo_ii, train, test))\n",
    "    \n",
    "    all_recs = pd.concat(all_recs, ignore_index=True)\n",
    "\n",
    "    metric = rmse(all_recs['prediction'], all_recs['rating'])\n",
    "    return metric"
   ]
  },
  {
   "cell_type": "code",
   "execution_count": 5,
   "metadata": {
    "scrolled": true
   },
   "outputs": [
    {
     "name": "stdout",
     "output_type": "stream",
     "text": [
      "34                                                                                                                     \n",
      "43                                                                                                                     \n",
      "3                                                                                                                      \n",
      "15                                                                                                                     \n",
      "18                                                                                                                     \n",
      "7                                                                                                                      \n",
      "20                                                                                                                     \n",
      "30                                                                                                                     \n",
      "49                                                                                                                     \n",
      "1                                                                                                                      \n",
      "100%|████████████████████████████████████████████████████| 10/10 [00:44<00:00,  4.50s/it, best loss: 0.899669844383351]\n",
      "31                                                                                                                     \n",
      "10                                                                                                                     \n",
      "45                                                                                                                     \n",
      "26                                                                                                                     \n",
      "44                                                                                                                     \n",
      "6                                                                                                                      \n",
      "14                                                                                                                     \n",
      "39                                                                                                                     \n",
      "46                                                                                                                     \n",
      "40                                                                                                                     \n",
      "100%|███████████████████████████████████████████████████| 10/10 [00:45<00:00,  4.55s/it, best loss: 0.8952034302435237]\n",
      "7                                                                                                                      \n",
      "41                                                                                                                     \n",
      "11                                                                                                                     \n",
      "19                                                                                                                     \n",
      "22                                                                                                                     \n",
      "49                                                                                                                     \n",
      "29                                                                                                                     \n",
      "18                                                                                                                     \n",
      "21                                                                                                                     \n",
      "49                                                                                                                     \n",
      "100%|███████████████████████████████████████████████████| 10/10 [00:45<00:00,  4.57s/it, best loss: 0.8966189931566783]\n",
      "5                                                                                                                      \n",
      "43                                                                                                                     \n",
      "49                                                                                                                     \n",
      "11                                                                                                                     \n",
      "16                                                                                                                     \n",
      "24                                                                                                                     \n",
      "10                                                                                                                     \n",
      "22                                                                                                                     \n",
      "12                                                                                                                     \n",
      "32                                                                                                                     \n",
      "100%|███████████████████████████████████████████████████| 10/10 [00:44<00:00,  4.43s/it, best loss: 0.8986493065477519]\n",
      "8                                                                                                                      \n",
      "33                                                                                                                     \n",
      "46                                                                                                                     \n",
      "41                                                                                                                     \n",
      "23                                                                                                                     \n",
      "32                                                                                                                     \n",
      "10                                                                                                                     \n",
      "48                                                                                                                     \n",
      "48                                                                                                                     \n",
      "35                                                                                                                     \n",
      "100%|███████████████████████████████████████████████████| 10/10 [00:43<00:00,  4.35s/it, best loss: 0.8982221027559707]\n",
      "22                                                                                                                     \n",
      "2                                                                                                                      \n",
      "24                                                                                                                     \n",
      "29                                                                                                                     \n",
      "24                                                                                                                     \n",
      "17                                                                                                                     \n",
      "42                                                                                                                     \n",
      "43                                                                                                                     \n",
      "12                                                                                                                     \n",
      "21                                                                                                                     \n",
      "100%|███████████████████████████████████████████████████| 10/10 [00:45<00:00,  4.62s/it, best loss: 0.8918293135261491]\n",
      "30                                                                                                                     \n",
      "25                                                                                                                     \n"
     ]
    },
    {
     "name": "stdout",
     "output_type": "stream",
     "text": [
      "31                                                                                                                     \n",
      "34                                                                                                                     \n",
      "39                                                                                                                     \n",
      "40                                                                                                                     \n",
      "18                                                                                                                     \n",
      "22                                                                                                                     \n",
      "29                                                                                                                     \n",
      "34                                                                                                                     \n",
      "100%|███████████████████████████████████████████████████| 10/10 [00:44<00:00,  4.38s/it, best loss: 0.8938831615144291]\n",
      "19                                                                                                                     \n",
      "25                                                                                                                     \n",
      "13                                                                                                                     \n",
      "5                                                                                                                      \n",
      "21                                                                                                                     \n",
      "1                                                                                                                      \n",
      "14                                                                                                                     \n",
      "8                                                                                                                      \n",
      "32                                                                                                                     \n",
      "43                                                                                                                     \n",
      "100%|███████████████████████████████████████████████████| 10/10 [00:43<00:00,  4.35s/it, best loss: 0.8993576221463044]\n",
      "32                                                                                                                     \n",
      "19                                                                                                                     \n",
      "13                                                                                                                     \n",
      "24                                                                                                                     \n",
      "18                                                                                                                     \n",
      "30                                                                                                                     \n",
      "38                                                                                                                     \n",
      "45                                                                                                                     \n",
      "42                                                                                                                     \n",
      "8                                                                                                                      \n",
      "100%|███████████████████████████████████████████████████| 10/10 [00:43<00:00,  4.34s/it, best loss: 0.8986639393933152]\n",
      "45                                                                                                                     \n",
      "8                                                                                                                      \n",
      "4                                                                                                                      \n",
      "44                                                                                                                     \n",
      "49                                                                                                                     \n",
      "38                                                                                                                     \n",
      "5                                                                                                                      \n",
      "19                                                                                                                     \n",
      "14                                                                                                                     \n",
      "34                                                                                                                     \n",
      "100%|███████████████████████████████████████████████████| 10/10 [00:45<00:00,  4.55s/it, best loss: 0.8929233048249747]\n"
     ]
    }
   ],
   "source": [
    "from hyperopt import fmin, tpe, hp, STATUS_OK\n",
    "\n",
    "def objective(x):\n",
    "    return {'loss': model_trainer(x), 'status': STATUS_OK }\n",
    "\n",
    "average=[[] for _ in range(10)]\n",
    "\n",
    "for y in range(len(average)):\n",
    "    best = fmin(objective,\n",
    "        space=hp.uniform('x', 1, 50),\n",
    "        algo=tpe.suggest,\n",
    "        max_evals=10\n",
    "               )\n",
    "    average[y].append(best)"
   ]
  },
  {
   "cell_type": "code",
   "execution_count": 7,
   "metadata": {},
   "outputs": [],
   "source": [
    "average = [[{'x': 30.681121683225463}],\n",
    " [{'x': 26.631980797126403}],\n",
    " [{'x': 29.81739029363799}],\n",
    " [{'x': 16.010518474823364}],\n",
    " [{'x': 48.23354234659683}],\n",
    " [{'x': 21.41490353537463}],\n",
    " [{'x': 29.22333149552323}],\n",
    " [{'x': 25.295814448912985}],\n",
    " [{'x': 18.372381042625957}],\n",
    " [{'x': 44.02508303793156}]]"
   ]
  },
  {
   "cell_type": "code",
   "execution_count": 8,
   "metadata": {},
   "outputs": [],
   "source": [
    "flat_list = [item for sublist in average for item in sublist]"
   ]
  },
  {
   "cell_type": "code",
   "execution_count": 9,
   "metadata": {},
   "outputs": [],
   "source": [
    "rmse = [0.899669844383351,0.8952034302435237,0.8966189931566783,0.8986493065477519,0.8982221027559707,0.8918293135261491,\n",
    "        0.8938831615144291,0.8993576221463044,0.8986639393933152,0.8929233048249747]\n",
    "rmse = pd.DataFrame(rmse)"
   ]
  },
  {
   "cell_type": "code",
   "execution_count": 10,
   "metadata": {},
   "outputs": [
    {
     "data": {
      "text/html": [
       "<div>\n",
       "<style scoped>\n",
       "    .dataframe tbody tr th:only-of-type {\n",
       "        vertical-align: middle;\n",
       "    }\n",
       "\n",
       "    .dataframe tbody tr th {\n",
       "        vertical-align: top;\n",
       "    }\n",
       "\n",
       "    .dataframe thead th {\n",
       "        text-align: right;\n",
       "    }\n",
       "</style>\n",
       "<table border=\"1\" class=\"dataframe\">\n",
       "  <thead>\n",
       "    <tr style=\"text-align: right;\">\n",
       "      <th></th>\n",
       "      <th>Neighbours</th>\n",
       "      <th>RMSE</th>\n",
       "    </tr>\n",
       "  </thead>\n",
       "  <tbody>\n",
       "    <tr>\n",
       "      <th>0</th>\n",
       "      <td>30.681122</td>\n",
       "      <td>0.899670</td>\n",
       "    </tr>\n",
       "    <tr>\n",
       "      <th>1</th>\n",
       "      <td>26.631981</td>\n",
       "      <td>0.895203</td>\n",
       "    </tr>\n",
       "    <tr>\n",
       "      <th>2</th>\n",
       "      <td>29.817390</td>\n",
       "      <td>0.896619</td>\n",
       "    </tr>\n",
       "    <tr>\n",
       "      <th>3</th>\n",
       "      <td>16.010518</td>\n",
       "      <td>0.898649</td>\n",
       "    </tr>\n",
       "    <tr>\n",
       "      <th>4</th>\n",
       "      <td>48.233542</td>\n",
       "      <td>0.898222</td>\n",
       "    </tr>\n",
       "    <tr>\n",
       "      <th>5</th>\n",
       "      <td>21.414904</td>\n",
       "      <td>0.891829</td>\n",
       "    </tr>\n",
       "    <tr>\n",
       "      <th>6</th>\n",
       "      <td>29.223331</td>\n",
       "      <td>0.893883</td>\n",
       "    </tr>\n",
       "    <tr>\n",
       "      <th>7</th>\n",
       "      <td>25.295814</td>\n",
       "      <td>0.899358</td>\n",
       "    </tr>\n",
       "    <tr>\n",
       "      <th>8</th>\n",
       "      <td>18.372381</td>\n",
       "      <td>0.898664</td>\n",
       "    </tr>\n",
       "    <tr>\n",
       "      <th>9</th>\n",
       "      <td>44.025083</td>\n",
       "      <td>0.892923</td>\n",
       "    </tr>\n",
       "  </tbody>\n",
       "</table>\n",
       "</div>"
      ],
      "text/plain": [
       "   Neighbours      RMSE\n",
       "0   30.681122  0.899670\n",
       "1   26.631981  0.895203\n",
       "2   29.817390  0.896619\n",
       "3   16.010518  0.898649\n",
       "4   48.233542  0.898222\n",
       "5   21.414904  0.891829\n",
       "6   29.223331  0.893883\n",
       "7   25.295814  0.899358\n",
       "8   18.372381  0.898664\n",
       "9   44.025083  0.892923"
      ]
     },
     "execution_count": 10,
     "metadata": {},
     "output_type": "execute_result"
    }
   ],
   "source": [
    "average = pd.DataFrame.from_dict(flat_list)\n",
    "metric = pd.concat([average,rmse],axis=1)\n",
    "metric.columns = ['Neighbours','RMSE']\n",
    "metric"
   ]
  },
  {
   "cell_type": "code",
   "execution_count": 11,
   "metadata": {},
   "outputs": [
    {
     "data": {
      "text/plain": [
       "Neighbours    28.970607\n",
       "RMSE           0.896502\n",
       "dtype: float64"
      ]
     },
     "execution_count": 11,
     "metadata": {},
     "output_type": "execute_result"
    }
   ],
   "source": [
    "metric.mean()"
   ]
  }
 ],
 "metadata": {
  "kernelspec": {
   "display_name": "Python 3",
   "language": "python",
   "name": "python3"
  },
  "language_info": {
   "codemirror_mode": {
    "name": "ipython",
    "version": 3
   },
   "file_extension": ".py",
   "mimetype": "text/x-python",
   "name": "python",
   "nbconvert_exporter": "python",
   "pygments_lexer": "ipython3",
   "version": "3.7.3"
  }
 },
 "nbformat": 4,
 "nbformat_minor": 2
}
